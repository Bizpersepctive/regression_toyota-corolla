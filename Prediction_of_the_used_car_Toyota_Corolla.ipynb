{
 "cells": [
  {
   "cell_type": "markdown",
   "metadata": {},
   "source": [
    "# Prediction of the Price of Used Cars\n",
    "### (Model: Toyota Corolla)\n",
    "<br>\n",
    "<br>"
   ]
  },
  {
   "cell_type": "markdown",
   "metadata": {},
   "source": [
    "<img src=\"https://res.cloudinary.com/carsguide/image/upload/f_auto,fl_lossy,q_auto,t_default/v1/editorial/toyota-corolla-2002-used.jpg\">"
   ]
  },
  {
   "cell_type": "markdown",
   "metadata": {},
   "source": [
    "## Project Description\n",
    "#### Objective: \n",
    "*Predicting the price of used cars(Model: Toyota Corolla)\n",
    "#### Relative Topics: \n",
    "*Statistics, Linear Regression, Machine Learning, Prediction, Visualization, Python\n",
    "#### Data: \n",
    "* The data was received from Data Science School\n",
    "* The two data sets(train, test) were given in csv format\n"
   ]
  },
  {
   "cell_type": "markdown",
   "metadata": {
    "collapsed": true
   },
   "source": [
    "# Importing and Exploring the Data"
   ]
  },
  {
   "cell_type": "code",
   "execution_count": 1,
   "metadata": {
    "collapsed": true
   },
   "outputs": [],
   "source": [
    "import pandas as pd\n",
    "import numpy as np\n",
    "import matplotlib.pyplot as plt\n",
    "import statsmodels.formula.api as smf\n",
    "from sklearn.linear_model import LinearRegression\n",
    "import seaborn as sns; sns.set(style = 'darkgrid',context = \"paper\", color_codes = True)\n",
    "%matplotlib inline"
   ]
  },
  {
   "cell_type": "code",
   "execution_count": 2,
   "metadata": {
    "collapsed": true
   },
   "outputs": [],
   "source": [
    "data = pd.read_csv('train.csv')"
   ]
  },
  {
   "cell_type": "code",
   "execution_count": 3,
   "metadata": {},
   "outputs": [
    {
     "name": "stdout",
     "output_type": "stream",
     "text": [
      "(1019, 39)\n"
     ]
    },
    {
     "data": {
      "text/html": [
       "<div>\n",
       "<style>\n",
       "    .dataframe thead tr:only-child th {\n",
       "        text-align: right;\n",
       "    }\n",
       "\n",
       "    .dataframe thead th {\n",
       "        text-align: left;\n",
       "    }\n",
       "\n",
       "    .dataframe tbody tr th {\n",
       "        vertical-align: top;\n",
       "    }\n",
       "</style>\n",
       "<table border=\"1\" class=\"dataframe\">\n",
       "  <thead>\n",
       "    <tr style=\"text-align: right;\">\n",
       "      <th></th>\n",
       "      <th>Id</th>\n",
       "      <th>Model</th>\n",
       "      <th>Price</th>\n",
       "      <th>Age_08_04</th>\n",
       "      <th>Mfg_Month</th>\n",
       "      <th>Mfg_Year</th>\n",
       "      <th>KM</th>\n",
       "      <th>Fuel_Type</th>\n",
       "      <th>HP</th>\n",
       "      <th>Met_Color</th>\n",
       "      <th>...</th>\n",
       "      <th>Powered_Windows</th>\n",
       "      <th>Power_Steering</th>\n",
       "      <th>Radio</th>\n",
       "      <th>Mistlamps</th>\n",
       "      <th>Sport_Model</th>\n",
       "      <th>Backseat_Divider</th>\n",
       "      <th>Metallic_Rim</th>\n",
       "      <th>Radio_cassette</th>\n",
       "      <th>Parking_Assistant</th>\n",
       "      <th>Tow_Bar</th>\n",
       "    </tr>\n",
       "  </thead>\n",
       "  <tbody>\n",
       "    <tr>\n",
       "      <th>1014</th>\n",
       "      <td>1434</td>\n",
       "      <td>TOYOTA Corolla 1.3 16V HATCHB LINEA TERRA AUT3...</td>\n",
       "      <td>8950</td>\n",
       "      <td>71</td>\n",
       "      <td>10</td>\n",
       "      <td>1998</td>\n",
       "      <td>29000</td>\n",
       "      <td>Petrol</td>\n",
       "      <td>86</td>\n",
       "      <td>1</td>\n",
       "      <td>...</td>\n",
       "      <td>0</td>\n",
       "      <td>1</td>\n",
       "      <td>0</td>\n",
       "      <td>0</td>\n",
       "      <td>0</td>\n",
       "      <td>1</td>\n",
       "      <td>0</td>\n",
       "      <td>0</td>\n",
       "      <td>0</td>\n",
       "      <td>0</td>\n",
       "    </tr>\n",
       "    <tr>\n",
       "      <th>1015</th>\n",
       "      <td>1438</td>\n",
       "      <td>TOYOTA Corolla 1.3 16V HATCHB G6 2/3-Doors</td>\n",
       "      <td>7500</td>\n",
       "      <td>69</td>\n",
       "      <td>12</td>\n",
       "      <td>1998</td>\n",
       "      <td>20544</td>\n",
       "      <td>Petrol</td>\n",
       "      <td>86</td>\n",
       "      <td>1</td>\n",
       "      <td>...</td>\n",
       "      <td>1</td>\n",
       "      <td>1</td>\n",
       "      <td>0</td>\n",
       "      <td>1</td>\n",
       "      <td>1</td>\n",
       "      <td>1</td>\n",
       "      <td>0</td>\n",
       "      <td>0</td>\n",
       "      <td>0</td>\n",
       "      <td>0</td>\n",
       "    </tr>\n",
       "    <tr>\n",
       "      <th>1016</th>\n",
       "      <td>1440</td>\n",
       "      <td>TOYOTA Corolla 1.3 16V HATCHB LINEA TERRA 2/3-...</td>\n",
       "      <td>8500</td>\n",
       "      <td>71</td>\n",
       "      <td>10</td>\n",
       "      <td>1998</td>\n",
       "      <td>17016</td>\n",
       "      <td>Petrol</td>\n",
       "      <td>86</td>\n",
       "      <td>0</td>\n",
       "      <td>...</td>\n",
       "      <td>0</td>\n",
       "      <td>1</td>\n",
       "      <td>0</td>\n",
       "      <td>0</td>\n",
       "      <td>0</td>\n",
       "      <td>1</td>\n",
       "      <td>0</td>\n",
       "      <td>0</td>\n",
       "      <td>0</td>\n",
       "      <td>0</td>\n",
       "    </tr>\n",
       "    <tr>\n",
       "      <th>1017</th>\n",
       "      <td>1441</td>\n",
       "      <td>TOYOTA Corolla 1.3 16V HATCHB LINEA TERRA 2/3-...</td>\n",
       "      <td>7250</td>\n",
       "      <td>70</td>\n",
       "      <td>11</td>\n",
       "      <td>1998</td>\n",
       "      <td>16916</td>\n",
       "      <td>Petrol</td>\n",
       "      <td>86</td>\n",
       "      <td>1</td>\n",
       "      <td>...</td>\n",
       "      <td>0</td>\n",
       "      <td>0</td>\n",
       "      <td>0</td>\n",
       "      <td>0</td>\n",
       "      <td>0</td>\n",
       "      <td>1</td>\n",
       "      <td>0</td>\n",
       "      <td>0</td>\n",
       "      <td>0</td>\n",
       "      <td>0</td>\n",
       "    </tr>\n",
       "    <tr>\n",
       "      <th>1018</th>\n",
       "      <td>1442</td>\n",
       "      <td>TOYOTA Corolla 1.6 LB LINEA TERRA 4/5-Doors</td>\n",
       "      <td>6950</td>\n",
       "      <td>76</td>\n",
       "      <td>5</td>\n",
       "      <td>1998</td>\n",
       "      <td>1</td>\n",
       "      <td>Petrol</td>\n",
       "      <td>110</td>\n",
       "      <td>0</td>\n",
       "      <td>...</td>\n",
       "      <td>0</td>\n",
       "      <td>1</td>\n",
       "      <td>0</td>\n",
       "      <td>0</td>\n",
       "      <td>0</td>\n",
       "      <td>0</td>\n",
       "      <td>0</td>\n",
       "      <td>0</td>\n",
       "      <td>0</td>\n",
       "      <td>0</td>\n",
       "    </tr>\n",
       "  </tbody>\n",
       "</table>\n",
       "<p>5 rows × 39 columns</p>\n",
       "</div>"
      ],
      "text/plain": [
       "        Id                                              Model  Price  \\\n",
       "1014  1434  TOYOTA Corolla 1.3 16V HATCHB LINEA TERRA AUT3...   8950   \n",
       "1015  1438         TOYOTA Corolla 1.3 16V HATCHB G6 2/3-Doors   7500   \n",
       "1016  1440  TOYOTA Corolla 1.3 16V HATCHB LINEA TERRA 2/3-...   8500   \n",
       "1017  1441  TOYOTA Corolla 1.3 16V HATCHB LINEA TERRA 2/3-...   7250   \n",
       "1018  1442        TOYOTA Corolla 1.6 LB LINEA TERRA 4/5-Doors   6950   \n",
       "\n",
       "      Age_08_04  Mfg_Month  Mfg_Year     KM Fuel_Type   HP  Met_Color  \\\n",
       "1014         71         10      1998  29000    Petrol   86          1   \n",
       "1015         69         12      1998  20544    Petrol   86          1   \n",
       "1016         71         10      1998  17016    Petrol   86          0   \n",
       "1017         70         11      1998  16916    Petrol   86          1   \n",
       "1018         76          5      1998      1    Petrol  110          0   \n",
       "\n",
       "       ...    Powered_Windows  Power_Steering  Radio  Mistlamps  Sport_Model  \\\n",
       "1014   ...                  0               1      0          0            0   \n",
       "1015   ...                  1               1      0          1            1   \n",
       "1016   ...                  0               1      0          0            0   \n",
       "1017   ...                  0               0      0          0            0   \n",
       "1018   ...                  0               1      0          0            0   \n",
       "\n",
       "      Backseat_Divider  Metallic_Rim  Radio_cassette  Parking_Assistant  \\\n",
       "1014                 1             0               0                  0   \n",
       "1015                 1             0               0                  0   \n",
       "1016                 1             0               0                  0   \n",
       "1017                 1             0               0                  0   \n",
       "1018                 0             0               0                  0   \n",
       "\n",
       "      Tow_Bar  \n",
       "1014        0  \n",
       "1015        0  \n",
       "1016        0  \n",
       "1017        0  \n",
       "1018        0  \n",
       "\n",
       "[5 rows x 39 columns]"
      ]
     },
     "execution_count": 3,
     "metadata": {},
     "output_type": "execute_result"
    }
   ],
   "source": [
    "# The training data is composed of 1019 rows and 39 columns\n",
    "print (data.shape)\n",
    "data.tail()"
   ]
  },
  {
   "cell_type": "code",
   "execution_count": 4,
   "metadata": {},
   "outputs": [
    {
     "name": "stdout",
     "output_type": "stream",
     "text": [
      "The range of the model is between  1998  ~  2004\n"
     ]
    }
   ],
   "source": [
    "# Just to get a quick idea, let's check the range of model by year\n",
    "print (\"The range of the model is between \", data['Mfg_Year'].min(), \" ~ \", data['Mfg_Year'].max())"
   ]
  },
  {
   "cell_type": "code",
   "execution_count": 5,
   "metadata": {},
   "outputs": [
    {
     "data": {
      "text/plain": [
       "Index(['Id', 'Model', 'Price', 'Age_08_04', 'Mfg_Month', 'Mfg_Year', 'KM',\n",
       "       'Fuel_Type', 'HP', 'Met_Color', 'Color', 'Automatic', 'CC', 'Doors',\n",
       "       'Cylinders', 'Gears', 'Quarterly_Tax', 'Weight', 'Mfr_Guarantee',\n",
       "       'BOVAG_Guarantee', 'Guarantee_Period', 'ABS', 'Airbag_1', 'Airbag_2',\n",
       "       'Airco', 'Automatic_airco', 'Boardcomputer', 'CD_Player',\n",
       "       'Central_Lock', 'Powered_Windows', 'Power_Steering', 'Radio',\n",
       "       'Mistlamps', 'Sport_Model', 'Backseat_Divider', 'Metallic_Rim',\n",
       "       'Radio_cassette', 'Parking_Assistant', 'Tow_Bar'],\n",
       "      dtype='object')"
      ]
     },
     "execution_count": 5,
     "metadata": {},
     "output_type": "execute_result"
    }
   ],
   "source": [
    "data.columns"
   ]
  },
  {
   "cell_type": "code",
   "execution_count": 6,
   "metadata": {
    "collapsed": true
   },
   "outputs": [],
   "source": [
    "col_nu = ['Age_08_04', 'Mfg_Year', 'KM', 'HP', 'CC', \n",
    "             'Cylinders', 'Quarterly_Tax', 'Weight', 'Guarantee_Period']\n",
    "\n",
    "col_cat = ['Fuel_Type', 'Met_Color', 'Color', 'Automatic', 'Doors', 'Gears', 'ABS', 'Airbag_1',\n",
    "           'Airbag_2', 'Airco', 'Automatic_airco', 'Boardcomputer', 'CD_Player',\n",
    "       'Central_Lock', 'Powered_Windows', 'Power_Steering', 'Radio',\n",
    "       'Mistlamps', 'Sport_Model', 'Backseat_Divider', 'Metallic_Rim',\n",
    "       'Radio_cassette', 'Parking_Assistant', 'Tow_Bar']"
   ]
  },
  {
   "cell_type": "markdown",
   "metadata": {},
   "source": [
    "### Quick overview of the relationship between 'Price' and 'Numerical Columns(First 5 Columns) '"
   ]
  },
  {
   "cell_type": "code",
   "execution_count": 7,
   "metadata": {},
   "outputs": [
    {
     "data": {
      "text/plain": [
       "<matplotlib.figure.Figure at 0x119a19b70>"
      ]
     },
     "metadata": {},
     "output_type": "display_data"
    },
    {
     "data": {
      "image/png": "[encoded data removed]",
      "text/plain": [
       "<matplotlib.figure.Figure at 0x119993630>"
      ]
     },
     "metadata": {},
     "output_type": "display_data"
    }
   ],
   "source": [
    "plt.clf()\n",
    "with plt.style.context(('seaborn-darkgrid')):\n",
    "    sns_plot = sns.pairplot(pd.concat([data.Price, data[col_nu[:5]]], axis = 1), size = 2)\n",
    "plt.show()"
   ]
  },
  {
   "cell_type": "markdown",
   "metadata": {},
   "source": [
    "### We may find few implication from this graph\n",
    "* First, 'Age_08_04' and 'KM' seems to be strongly related to our target, Price. (The relationship of 'KM' is not as linear as 'Age_08_04', though)\n",
    "\n",
    "\n",
    "* Second, although 'CC' and 'HP' are continuous real values, they behave more likely as categorical value in this case\n",
    "\n",
    "\n",
    "* Thrid, 'Mfg_Year' and 'Age_08_04' seems to have significant correlation each other, which indicates that those two values may bring 'Multicollinearity' issue when we include both of them in the prediction model."
   ]
  },
  {
   "cell_type": "markdown",
   "metadata": {},
   "source": [
    "### Quick overview of the relationship between 'Price' and 'Numerical Columns(Next 5 Columns) '"
   ]
  },
  {
   "cell_type": "code",
   "execution_count": 8,
   "metadata": {},
   "outputs": [
    {
     "data": {
      "text/plain": [
       "<matplotlib.figure.Figure at 0x11b597828>"
      ]
     },
     "metadata": {},
     "output_type": "display_data"
    },
    {
     "data": {
      "image/png": "[encoded data removed]",
      "text/plain": [
       "<matplotlib.figure.Figure at 0x11b781b00>"
      ]
     },
     "metadata": {},
     "output_type": "display_data"
    }
   ],
   "source": [
    "plt.clf()\n",
    "with plt.style.context(('seaborn-darkgrid')):\n",
    "    sns_plot = sns.pairplot(pd.concat([data.Price, data[col_nu[5:]]], axis = 1), size = 2)\n",
    "plt.show()"
   ]
  },
  {
   "cell_type": "markdown",
   "metadata": {},
   "source": [
    "### The other continuous values are not as impressive as previous ones"
   ]
  },
  {
   "cell_type": "code",
   "execution_count": 9,
   "metadata": {},
   "outputs": [
    {
     "data": {
      "text/plain": [
       "['_classic_test',\n",
       " 'bmh',\n",
       " 'classic',\n",
       " 'dark_background',\n",
       " 'fivethirtyeight',\n",
       " 'ggplot',\n",
       " 'grayscale',\n",
       " 'seaborn-bright',\n",
       " 'seaborn-colorblind',\n",
       " 'seaborn-dark-palette',\n",
       " 'seaborn-dark',\n",
       " 'seaborn-darkgrid',\n",
       " 'seaborn-deep',\n",
       " 'seaborn-muted',\n",
       " 'seaborn-notebook',\n",
       " 'seaborn-paper',\n",
       " 'seaborn-pastel',\n",
       " 'seaborn-poster',\n",
       " 'seaborn-talk',\n",
       " 'seaborn-ticks',\n",
       " 'seaborn-white',\n",
       " 'seaborn-whitegrid',\n",
       " 'seaborn']"
      ]
     },
     "execution_count": 9,
     "metadata": {},
     "output_type": "execute_result"
    }
   ],
   "source": [
    "plt.style.available"
   ]
  },
  {
   "cell_type": "markdown",
   "metadata": {},
   "source": [
    "### Checking out the categorical values\n",
    "* Note: I am going to use the box plot instead, because...\n",
    "    * there are only a number of values to be on x-axis\n",
    "    * box-plot can provide additional information such as median, quantiles and etc."
   ]
  },
  {
   "cell_type": "code",
   "execution_count": 10,
   "metadata": {},
   "outputs": [
    {
     "data": {
      "image/png": "[encoded data removed]",
      "text/plain": [
       "<matplotlib.figure.Figure at 0x11cbdcf28>"
      ]
     },
     "metadata": {},
     "output_type": "display_data"
    }
   ],
   "source": [
    "with plt.style.context(\"seaborn-paper\"):\n",
    "    sns.set(font_scale=1.5)\n",
    "    f, axes = plt.subplots(4, 6, figsize =(40, 20), sharey='all')\n",
    "    for num, ax in zip(range(24), axes.flat):\n",
    "        try:\n",
    "            sns.boxplot(x = data[col_cat[0+num]], y = data['Price'], palette = 'Set2', ax = ax)\n",
    "        except:\n",
    "            pass\n"
   ]
  },
  {
   "cell_type": "markdown",
   "metadata": {},
   "source": [
    "# Let's start the Pre-Processing\n",
    "* The pre-processing in this project includes two parts\n",
    "    * Process the outliers\n",
    "    * Process the questionable values(ex: not realistic, out of category...)"
   ]
  },
  {
   "cell_type": "code",
   "execution_count": 11,
   "metadata": {
    "collapsed": true
   },
   "outputs": [],
   "source": [
    "post_data = data.copy()\n",
    "post_data = pd.DataFrame(post_data)"
   ]
  },
  {
   "cell_type": "markdown",
   "metadata": {},
   "source": [
    "### There are some data with unrealistic 'CC' values. \n",
    "* 'CC' values is supposed to be in the unit of hundreds\n",
    "* The data included some value as '16000', which is suspected to be typing error"
   ]
  },
  {
   "cell_type": "code",
   "execution_count": 12,
   "metadata": {},
   "outputs": [
    {
     "data": {
      "text/plain": [
       "1600     608\n",
       "1300     177\n",
       "1400     114\n",
       "2000      81\n",
       "1900      22\n",
       "1800       9\n",
       "1598       2\n",
       "1587       2\n",
       "1995       1\n",
       "16000      1\n",
       "1398       1\n",
       "1332       1\n",
       "Name: CC, dtype: int64"
      ]
     },
     "execution_count": 12,
     "metadata": {},
     "output_type": "execute_result"
    }
   ],
   "source": [
    "post_data['CC'].value_counts()"
   ]
  },
  {
   "cell_type": "markdown",
   "metadata": {},
   "source": [
    "### I did not want to discard the data just because of the wrong 'CC' values.\n",
    "### I have replaced the values to the closed 'CC' values in terms of hundreds unit"
   ]
  },
  {
   "cell_type": "code",
   "execution_count": 13,
   "metadata": {
    "collapsed": true
   },
   "outputs": [],
   "source": [
    "post_data['CC'].replace(1598, 1600, inplace=True)\n",
    "post_data['CC'].replace(1587, 1600, inplace=True)\n",
    "post_data['CC'].replace(1995, 1900, inplace=True)\n",
    "post_data['CC'].replace(16000, 1600, inplace=True)\n",
    "post_data['CC'].replace(1398, 1400, inplace=True)\n",
    "post_data['CC'].replace(1332, 1300, inplace=True)"
   ]
  },
  {
   "cell_type": "markdown",
   "metadata": {},
   "source": [
    "#### The data have been replaced as below"
   ]
  },
  {
   "cell_type": "code",
   "execution_count": 14,
   "metadata": {},
   "outputs": [
    {
     "name": "stdout",
     "output_type": "stream",
     "text": [
      "1600     608\n",
      "1300     177\n",
      "1400     114\n",
      "2000      81\n",
      "1900      22\n",
      "1800       9\n",
      "1598       2\n",
      "1587       2\n",
      "1995       1\n",
      "16000      1\n",
      "1398       1\n",
      "1332       1\n",
      "Name: CC, dtype: int64\n",
      "1600    613\n",
      "1300    178\n",
      "1400    115\n",
      "2000     81\n",
      "1900     23\n",
      "1800      9\n",
      "Name: CC, dtype: int64\n"
     ]
    }
   ],
   "source": [
    "print (data['CC'].value_counts())\n",
    "print (post_data['CC'].value_counts())"
   ]
  },
  {
   "cell_type": "markdown",
   "metadata": {},
   "source": [
    "### There were extremely small values of 'KM', although some of the models were very old. \n",
    "* This one is little bit more tricky compared to the 'CC', because the used cars CAN HAVE low 'KM values. \n",
    "* Eventually I've decided to replace the values to the median of 'KM'value from the same year models.\n",
    "    * First, extremely low values of 'KM' could damage prediction accuracy\n",
    "    * Second, I compared the 'Prices' of these data sets with other data with the same year models(ex: compare the price of 1998 model with 1 km and 1998 model with 100000 km) and found out there were no price differences. If so, it's either that the inserted values were mistake or that the 'KM' doesn't affect the price at all. In either case, replacing the value to the median makes sense."
   ]
  },
  {
   "cell_type": "code",
   "execution_count": 15,
   "metadata": {},
   "outputs": [
    {
     "name": "stdout",
     "output_type": "stream",
     "text": [
      "Int64Index([1018], dtype='int64')\n",
      "Int64Index([125], dtype='int64')\n",
      "Int64Index([83, 133], dtype='int64')\n",
      "Int64Index([132], dtype='int64')\n"
     ]
    },
    {
     "name": "stderr",
     "output_type": "stream",
     "text": [
      "/Users/aceit/anaconda/lib/python3.6/site-packages/ipykernel_launcher.py:1: UserWarning: Boolean Series key will be reindexed to match DataFrame index.\n",
      "  \"\"\"Entry point for launching an IPython kernel.\n",
      "/Users/aceit/anaconda/lib/python3.6/site-packages/ipykernel_launcher.py:2: UserWarning: Boolean Series key will be reindexed to match DataFrame index.\n",
      "  \n",
      "/Users/aceit/anaconda/lib/python3.6/site-packages/ipykernel_launcher.py:3: UserWarning: Boolean Series key will be reindexed to match DataFrame index.\n",
      "  This is separate from the ipykernel package so we can avoid doing imports until\n",
      "/Users/aceit/anaconda/lib/python3.6/site-packages/ipykernel_launcher.py:4: UserWarning: Boolean Series key will be reindexed to match DataFrame index.\n",
      "  after removing the cwd from sys.path.\n"
     ]
    }
   ],
   "source": [
    "print (post_data[post_data['KM']==1][post_data['Mfg_Year']==1998].index)\n",
    "print (post_data[post_data['KM']==1][post_data['Mfg_Year']==2003].index)\n",
    "print (post_data[post_data['KM']==1][post_data['Mfg_Year']==2004].index)\n",
    "print (post_data[post_data['KM']==15][post_data['Mfg_Year']==2004].index)"
   ]
  },
  {
   "cell_type": "code",
   "execution_count": 16,
   "metadata": {},
   "outputs": [
    {
     "name": "stdout",
     "output_type": "stream",
     "text": [
      "82635.0\n",
      "22881.5\n",
      "8574.0\n"
     ]
    }
   ],
   "source": [
    "print (post_data['KM'][post_data['Mfg_Year']==1998].median())\n",
    "print (post_data['KM'][post_data['Mfg_Year']==2003].median())\n",
    "print (post_data['KM'][post_data['Mfg_Year']==2004].median())"
   ]
  },
  {
   "cell_type": "code",
   "execution_count": 17,
   "metadata": {
    "collapsed": true
   },
   "outputs": [],
   "source": [
    "post_data.loc[1018,'KM']= 82635.0\n",
    "post_data.loc[125,'KM']= 22881.5\n",
    "post_data.loc[83, 'KM'] = 8574.0\n",
    "post_data.loc[133, 'KM'] = 8574.0\n",
    "post_data.loc[132, 'KM'] = 8574.0"
   ]
  },
  {
   "cell_type": "markdown",
   "metadata": {},
   "source": [
    "#### 또한 CC를 잘못 적은 경우가 있을 수 있어 모델에 나와있는 배기량 정보와 CC 컬럼과 비교하여 수정하였다"
   ]
  },
  {
   "cell_type": "markdown",
   "metadata": {},
   "source": [
    "### Note that the 'Model' Column includes the 'CC' Information"
   ]
  },
  {
   "cell_type": "code",
   "execution_count": 18,
   "metadata": {},
   "outputs": [
    {
     "data": {
      "text/plain": [
       "0        TOYOTA Corolla 2.0 D4D HATCHB TERRA 2/3-Doors\n",
       "1        TOYOTA Corolla 2.0 D4D HATCHB TERRA 2/3-Doors\n",
       "2          TOYOTA Corolla 2.0 D4D HATCHB SOL 2/3-Doors\n",
       "3    TOYOTA Corolla 1.8 VVTL-i T-Sport 3-Drs 2/3-Doors\n",
       "4    TOYOTA Corolla 1.8 16V VVTLI 3DR T SPORT 2/3-D...\n",
       "Name: Model, dtype: object"
      ]
     },
     "execution_count": 18,
     "metadata": {},
     "output_type": "execute_result"
    }
   ],
   "source": [
    "post_data['Model'].head()"
   ]
  },
  {
   "cell_type": "markdown",
   "metadata": {},
   "source": [
    "### However, I've found that some of these CC values do not match the values from 'CC' columns\n",
    "* Below is the example"
   ]
  },
  {
   "cell_type": "code",
   "execution_count": 19,
   "metadata": {},
   "outputs": [
    {
     "data": {
      "text/plain": [
       "Model    TOYOTA Corolla 2.0 D 4D Linea Sol 3 Doors 2/3-...\n",
       "CC                                                    1900\n",
       "Name: 63, dtype: object"
      ]
     },
     "execution_count": 19,
     "metadata": {},
     "output_type": "execute_result"
    }
   ],
   "source": [
    "post_data.loc[63, ['Model', 'CC']]"
   ]
  },
  {
   "cell_type": "markdown",
   "metadata": {},
   "source": [
    "### Which value is more likely to be correct? \n",
    "* Hard to tell. \n",
    "* But my reasoning is that when we think about the probability of making type error, it's easier to make a mistake for typing numerical value such as 'CC', compared to typing the full text as Model. In fact, there was no single typo error in Model columns, which gives us the hint that probably the 'Model' value was directly imported from DB or coped & pasted. \n",
    "* Therefore, I changed the CC values to be identical with the information given by Model column"
   ]
  },
  {
   "cell_type": "code",
   "execution_count": 20,
   "metadata": {},
   "outputs": [
    {
     "data": {
      "text/plain": [
       "1400"
      ]
     },
     "execution_count": 20,
     "metadata": {},
     "output_type": "execute_result"
    }
   ],
   "source": [
    "post_data.iloc[[63, 96, 101, 145, 336, 342, 445, 589, 678], post_data.columns.get_indexer(['Price','Model','engine','CC', 'Mfg_Year'])]\n",
    "post_data.loc[63,'CC'] = 2000\n",
    "post_data.loc[336,'CC'] = 1900\n",
    "post_data.loc[342,'CC'] = 1400\n",
    "post_data['CC'][342]"
   ]
  },
  {
   "cell_type": "markdown",
   "metadata": {},
   "source": [
    "<br>\n",
    "<br>\n",
    "# Run Simple Linear Regression Model\n"
   ]
  },
  {
   "cell_type": "code",
   "execution_count": 21,
   "metadata": {
    "collapsed": true
   },
   "outputs": [],
   "source": [
    "y_data = post_data['Price']\n",
    "cols_nu = ['Age_08_04', 'Mfg_Year', 'KM', 'HP', 'CC', 'Quarterly_Tax', 'Weight','Guarantee_Period']\n",
    "cols_cat = ['Model','Fuel_Type', 'Met_Color', 'Color', 'Automatic', 'Doors', 'Gears', 'Mfr_Guarantee', 'BOVAG_Guarantee',\n",
    "            'ABS', 'Airbag_1', 'Airbag_2', 'Airco', 'Automatic_airco', 'Boardcomputer', 'CD_Player', 'Central_Lock',\n",
    "            'Powered_Windows', 'Power_Steering', 'Radio', 'Mistlamps', 'Sport_Model', 'Backseat_Divider', 'Metallic_Rim',\n",
    "            'Radio_cassette', 'Parking_Assistant', 'Tow_Bar']\n",
    "x_nu = post_data[cols_nu]\n",
    "x_cat = post_data[cols_cat]"
   ]
  },
  {
   "cell_type": "code",
   "execution_count": 22,
   "metadata": {
    "collapsed": true
   },
   "outputs": [],
   "source": [
    "nu_variable_stats = pd.DataFrame(index = cols_nu, columns = ['R2', 'P-value', 'Beta'])\n",
    "cat_variable_stats = pd.DataFrame(index = cols_cat, columns = ['R2', 'P-value', 'Beta'])"
   ]
  },
  {
   "cell_type": "markdown",
   "metadata": {},
   "source": [
    "### I have created the simple table in which I can easily compare the R**2 and P-value of each variable"
   ]
  },
  {
   "cell_type": "code",
   "execution_count": 23,
   "metadata": {},
   "outputs": [
    {
     "data": {
      "text/html": [
       "<div>\n",
       "<style>\n",
       "    .dataframe thead tr:only-child th {\n",
       "        text-align: right;\n",
       "    }\n",
       "\n",
       "    .dataframe thead th {\n",
       "        text-align: left;\n",
       "    }\n",
       "\n",
       "    .dataframe tbody tr th {\n",
       "        vertical-align: top;\n",
       "    }\n",
       "</style>\n",
       "<table border=\"1\" class=\"dataframe\">\n",
       "  <thead>\n",
       "    <tr style=\"text-align: right;\">\n",
       "      <th></th>\n",
       "      <th>R2</th>\n",
       "      <th>P-value</th>\n",
       "      <th>Beta</th>\n",
       "    </tr>\n",
       "  </thead>\n",
       "  <tbody>\n",
       "    <tr>\n",
       "      <th>Mfg_Year</th>\n",
       "      <td>0.797988</td>\n",
       "      <td>0</td>\n",
       "      <td>2085.3</td>\n",
       "    </tr>\n",
       "    <tr>\n",
       "      <th>Age_08_04</th>\n",
       "      <td>0.781279</td>\n",
       "      <td>0</td>\n",
       "      <td>-171.649</td>\n",
       "    </tr>\n",
       "    <tr>\n",
       "      <th>KM</th>\n",
       "      <td>0.333567</td>\n",
       "      <td>1.03694e-91</td>\n",
       "      <td>-0.0551872</td>\n",
       "    </tr>\n",
       "    <tr>\n",
       "      <th>Weight</th>\n",
       "      <td>0.310266</td>\n",
       "      <td>4.1794e-84</td>\n",
       "      <td>39.2081</td>\n",
       "    </tr>\n",
       "    <tr>\n",
       "      <th>HP</th>\n",
       "      <td>0.0991609</td>\n",
       "      <td>6.8285e-25</td>\n",
       "      <td>76.8569</td>\n",
       "    </tr>\n",
       "    <tr>\n",
       "      <th>Quarterly_Tax</th>\n",
       "      <td>0.0319958</td>\n",
       "      <td>8.95663e-09</td>\n",
       "      <td>16.4635</td>\n",
       "    </tr>\n",
       "    <tr>\n",
       "      <th>Guarantee_Period</th>\n",
       "      <td>0.0276028</td>\n",
       "      <td>9.60109e-08</td>\n",
       "      <td>205.276</td>\n",
       "    </tr>\n",
       "    <tr>\n",
       "      <th>CC</th>\n",
       "      <td>0.0210399</td>\n",
       "      <td>3.33192e-06</td>\n",
       "      <td>2.83832</td>\n",
       "    </tr>\n",
       "  </tbody>\n",
       "</table>\n",
       "</div>"
      ],
      "text/plain": [
       "                         R2      P-value       Beta\n",
       "Mfg_Year           0.797988            0     2085.3\n",
       "Age_08_04          0.781279            0   -171.649\n",
       "KM                 0.333567  1.03694e-91 -0.0551872\n",
       "Weight             0.310266   4.1794e-84    39.2081\n",
       "HP                0.0991609   6.8285e-25    76.8569\n",
       "Quarterly_Tax     0.0319958  8.95663e-09    16.4635\n",
       "Guarantee_Period  0.0276028  9.60109e-08    205.276\n",
       "CC                0.0210399  3.33192e-06    2.83832"
      ]
     },
     "execution_count": 23,
     "metadata": {},
     "output_type": "execute_result"
    }
   ],
   "source": [
    "for i in cols_nu:\n",
    "    model = smf.ols(\"Price ~ {}\".format(i), post_data).fit()\n",
    "    nu_variable_stats.loc[i, 'R2'] = model.rsquared\n",
    "    nu_variable_stats.loc[i, 'P-value'] = model.f_pvalue\n",
    "    nu_variable_stats.loc[i, 'Beta'] = model.params[1]\n",
    "nu_variable_stats.sort_values('R2', ascending=False)"
   ]
  },
  {
   "cell_type": "code",
   "execution_count": 24,
   "metadata": {},
   "outputs": [
    {
     "data": {
      "text/html": [
       "<div>\n",
       "<style>\n",
       "    .dataframe thead tr:only-child th {\n",
       "        text-align: right;\n",
       "    }\n",
       "\n",
       "    .dataframe thead th {\n",
       "        text-align: left;\n",
       "    }\n",
       "\n",
       "    .dataframe tbody tr th {\n",
       "        vertical-align: top;\n",
       "    }\n",
       "</style>\n",
       "<table border=\"1\" class=\"dataframe\">\n",
       "  <thead>\n",
       "    <tr style=\"text-align: right;\">\n",
       "      <th></th>\n",
       "      <th>R2</th>\n",
       "      <th>P-value</th>\n",
       "      <th>Beta</th>\n",
       "    </tr>\n",
       "  </thead>\n",
       "  <tbody>\n",
       "    <tr>\n",
       "      <th>Model</th>\n",
       "      <td>0.916366</td>\n",
       "      <td>3.84556e-261</td>\n",
       "      <td>550</td>\n",
       "    </tr>\n",
       "    <tr>\n",
       "      <th>Boardcomputer</th>\n",
       "      <td>0.365576</td>\n",
       "      <td>1.3363e-102</td>\n",
       "      <td>4846.7</td>\n",
       "    </tr>\n",
       "    <tr>\n",
       "      <th>Automatic_airco</th>\n",
       "      <td>0.354131</td>\n",
       "      <td>1.20611e-98</td>\n",
       "      <td>9063.62</td>\n",
       "    </tr>\n",
       "    <tr>\n",
       "      <th>CD_Player</th>\n",
       "      <td>0.243082</td>\n",
       "      <td>1.58629e-63</td>\n",
       "      <td>4254.76</td>\n",
       "    </tr>\n",
       "    <tr>\n",
       "      <th>Airco</th>\n",
       "      <td>0.197411</td>\n",
       "      <td>1.52604e-50</td>\n",
       "      <td>3210.9</td>\n",
       "    </tr>\n",
       "  </tbody>\n",
       "</table>\n",
       "</div>"
      ],
      "text/plain": [
       "                       R2       P-value     Beta\n",
       "Model            0.916366  3.84556e-261      550\n",
       "Boardcomputer    0.365576   1.3363e-102   4846.7\n",
       "Automatic_airco  0.354131   1.20611e-98  9063.62\n",
       "CD_Player        0.243082   1.58629e-63  4254.76\n",
       "Airco            0.197411   1.52604e-50   3210.9"
      ]
     },
     "execution_count": 24,
     "metadata": {},
     "output_type": "execute_result"
    }
   ],
   "source": [
    "for i in cols_cat:\n",
    "    model = smf.ols(\"Price ~ {}\".format(i), post_data).fit()\n",
    "    cat_variable_stats.loc[i, 'R2'] = model.rsquared\n",
    "    cat_variable_stats.loc[i, 'P-value'] = model.f_pvalue\n",
    "    cat_variable_stats.loc[i, 'Beta'] = model.params[1]\n",
    "\n",
    "cat_variable_stats.sort_values('R2', ascending=False)[:5]"
   ]
  },
  {
   "cell_type": "markdown",
   "metadata": {},
   "source": [
    "\n",
    "### For categorical values, however, we also need to know what values they include and also how the proportion of each value looks like. \n",
    "### Below is the modified table for categorial variables"
   ]
  },
  {
   "cell_type": "code",
   "execution_count": 25,
   "metadata": {},
   "outputs": [
    {
     "data": {
      "text/html": [
       "<div>\n",
       "<style>\n",
       "    .dataframe thead tr:only-child th {\n",
       "        text-align: right;\n",
       "    }\n",
       "\n",
       "    .dataframe thead th {\n",
       "        text-align: left;\n",
       "    }\n",
       "\n",
       "    .dataframe tbody tr th {\n",
       "        vertical-align: top;\n",
       "    }\n",
       "</style>\n",
       "<table border=\"1\" class=\"dataframe\">\n",
       "  <thead>\n",
       "    <tr style=\"text-align: right;\">\n",
       "      <th></th>\n",
       "      <th>R2</th>\n",
       "      <th>P-value</th>\n",
       "      <th>Beta</th>\n",
       "      <th>Petrol</th>\n",
       "      <th>Diesel</th>\n",
       "      <th>CNG</th>\n",
       "      <th>1</th>\n",
       "      <th>0</th>\n",
       "      <th>Grey</th>\n",
       "      <th>Red</th>\n",
       "      <th>...</th>\n",
       "      <th>Silver</th>\n",
       "      <th>White</th>\n",
       "      <th>Beige</th>\n",
       "      <th>Yellow</th>\n",
       "      <th>Violet</th>\n",
       "      <th>5</th>\n",
       "      <th>3</th>\n",
       "      <th>4</th>\n",
       "      <th>2</th>\n",
       "      <th>6</th>\n",
       "    </tr>\n",
       "  </thead>\n",
       "  <tbody>\n",
       "    <tr>\n",
       "      <th>Model</th>\n",
       "      <td>0.916366</td>\n",
       "      <td>3.84556e-261</td>\n",
       "      <td>550</td>\n",
       "      <td>NaN</td>\n",
       "      <td>NaN</td>\n",
       "      <td>NaN</td>\n",
       "      <td>NaN</td>\n",
       "      <td>NaN</td>\n",
       "      <td>NaN</td>\n",
       "      <td>NaN</td>\n",
       "      <td>...</td>\n",
       "      <td>NaN</td>\n",
       "      <td>NaN</td>\n",
       "      <td>NaN</td>\n",
       "      <td>NaN</td>\n",
       "      <td>NaN</td>\n",
       "      <td>NaN</td>\n",
       "      <td>NaN</td>\n",
       "      <td>NaN</td>\n",
       "      <td>NaN</td>\n",
       "      <td>NaN</td>\n",
       "    </tr>\n",
       "    <tr>\n",
       "      <th>Boardcomputer</th>\n",
       "      <td>0.365576</td>\n",
       "      <td>1.3363e-102</td>\n",
       "      <td>4846.7</td>\n",
       "      <td>NaN</td>\n",
       "      <td>NaN</td>\n",
       "      <td>NaN</td>\n",
       "      <td>28.361138</td>\n",
       "      <td>71.638862</td>\n",
       "      <td>NaN</td>\n",
       "      <td>NaN</td>\n",
       "      <td>...</td>\n",
       "      <td>NaN</td>\n",
       "      <td>NaN</td>\n",
       "      <td>NaN</td>\n",
       "      <td>NaN</td>\n",
       "      <td>NaN</td>\n",
       "      <td>NaN</td>\n",
       "      <td>NaN</td>\n",
       "      <td>NaN</td>\n",
       "      <td>NaN</td>\n",
       "      <td>NaN</td>\n",
       "    </tr>\n",
       "    <tr>\n",
       "      <th>Automatic_airco</th>\n",
       "      <td>0.354131</td>\n",
       "      <td>1.20611e-98</td>\n",
       "      <td>9063.62</td>\n",
       "      <td>NaN</td>\n",
       "      <td>NaN</td>\n",
       "      <td>NaN</td>\n",
       "      <td>5.986261</td>\n",
       "      <td>94.013739</td>\n",
       "      <td>NaN</td>\n",
       "      <td>NaN</td>\n",
       "      <td>...</td>\n",
       "      <td>NaN</td>\n",
       "      <td>NaN</td>\n",
       "      <td>NaN</td>\n",
       "      <td>NaN</td>\n",
       "      <td>NaN</td>\n",
       "      <td>NaN</td>\n",
       "      <td>NaN</td>\n",
       "      <td>NaN</td>\n",
       "      <td>NaN</td>\n",
       "      <td>NaN</td>\n",
       "    </tr>\n",
       "    <tr>\n",
       "      <th>CD_Player</th>\n",
       "      <td>0.243082</td>\n",
       "      <td>1.58629e-63</td>\n",
       "      <td>4254.76</td>\n",
       "      <td>NaN</td>\n",
       "      <td>NaN</td>\n",
       "      <td>NaN</td>\n",
       "      <td>22.669284</td>\n",
       "      <td>77.330716</td>\n",
       "      <td>NaN</td>\n",
       "      <td>NaN</td>\n",
       "      <td>...</td>\n",
       "      <td>NaN</td>\n",
       "      <td>NaN</td>\n",
       "      <td>NaN</td>\n",
       "      <td>NaN</td>\n",
       "      <td>NaN</td>\n",
       "      <td>NaN</td>\n",
       "      <td>NaN</td>\n",
       "      <td>NaN</td>\n",
       "      <td>NaN</td>\n",
       "      <td>NaN</td>\n",
       "    </tr>\n",
       "    <tr>\n",
       "      <th>Airco</th>\n",
       "      <td>0.197411</td>\n",
       "      <td>1.52604e-50</td>\n",
       "      <td>3210.9</td>\n",
       "      <td>NaN</td>\n",
       "      <td>NaN</td>\n",
       "      <td>NaN</td>\n",
       "      <td>50.441609</td>\n",
       "      <td>49.558391</td>\n",
       "      <td>NaN</td>\n",
       "      <td>NaN</td>\n",
       "      <td>...</td>\n",
       "      <td>NaN</td>\n",
       "      <td>NaN</td>\n",
       "      <td>NaN</td>\n",
       "      <td>NaN</td>\n",
       "      <td>NaN</td>\n",
       "      <td>NaN</td>\n",
       "      <td>NaN</td>\n",
       "      <td>NaN</td>\n",
       "      <td>NaN</td>\n",
       "      <td>NaN</td>\n",
       "    </tr>\n",
       "  </tbody>\n",
       "</table>\n",
       "<p>5 rows × 23 columns</p>\n",
       "</div>"
      ],
      "text/plain": [
       "                       R2       P-value     Beta  Petrol  Diesel  CNG  \\\n",
       "Model            0.916366  3.84556e-261      550     NaN     NaN  NaN   \n",
       "Boardcomputer    0.365576   1.3363e-102   4846.7     NaN     NaN  NaN   \n",
       "Automatic_airco  0.354131   1.20611e-98  9063.62     NaN     NaN  NaN   \n",
       "CD_Player        0.243082   1.58629e-63  4254.76     NaN     NaN  NaN   \n",
       "Airco            0.197411   1.52604e-50   3210.9     NaN     NaN  NaN   \n",
       "\n",
       "                         1          0  Grey  Red ...  Silver  White  Beige  \\\n",
       "Model                  NaN        NaN   NaN  NaN ...     NaN    NaN    NaN   \n",
       "Boardcomputer    28.361138  71.638862   NaN  NaN ...     NaN    NaN    NaN   \n",
       "Automatic_airco   5.986261  94.013739   NaN  NaN ...     NaN    NaN    NaN   \n",
       "CD_Player        22.669284  77.330716   NaN  NaN ...     NaN    NaN    NaN   \n",
       "Airco            50.441609  49.558391   NaN  NaN ...     NaN    NaN    NaN   \n",
       "\n",
       "                 Yellow  Violet   5   3   4   2   6  \n",
       "Model               NaN     NaN NaN NaN NaN NaN NaN  \n",
       "Boardcomputer       NaN     NaN NaN NaN NaN NaN NaN  \n",
       "Automatic_airco     NaN     NaN NaN NaN NaN NaN NaN  \n",
       "CD_Player           NaN     NaN NaN NaN NaN NaN NaN  \n",
       "Airco               NaN     NaN NaN NaN NaN NaN NaN  \n",
       "\n",
       "[5 rows x 23 columns]"
      ]
     },
     "execution_count": 25,
     "metadata": {},
     "output_type": "execute_result"
    }
   ],
   "source": [
    "for i in cols_cat[1:]: \n",
    "    temp_dict = dict(x_cat[i].value_counts())\n",
    "    total = sum(temp_dict.values())\n",
    "    for key in temp_dict.keys():\n",
    "        cat_variable_stats.loc[i, key] = temp_dict[key] / float(total) * 100\n",
    "for i in cols_cat:\n",
    "    model = smf.ols(\"Price ~ {}\".format(i), post_data).fit()\n",
    "    cat_variable_stats.loc[i, 'R2'] = model.rsquared\n",
    "    cat_variable_stats.loc[i, 'P-value'] = model.f_pvalue\n",
    "    cat_variable_stats.loc[i, 'Beta'] = model.params[1]\n",
    "\n",
    "cat_variable_stats.sort_values('R2', ascending=False)[:5]"
   ]
  },
  {
   "cell_type": "markdown",
   "metadata": {},
   "source": [
    "# Creating New Variables"
   ]
  },
  {
   "cell_type": "markdown",
   "metadata": {},
   "source": [
    "### First, from EDA perspective"
   ]
  },
  {
   "cell_type": "markdown",
   "metadata": {},
   "source": [
    "* Looking at the correlation of 'Mfg_Year' with 'Price', it seems like the relationship is not purely linear.\n",
    "* There is a big hike of the price from '02 Model'. \n",
    "* We can see the hike applies not only to the average but also to the range. "
   ]
  },
  {
   "cell_type": "code",
   "execution_count": 26,
   "metadata": {},
   "outputs": [
    {
     "data": {
      "image/png": "[encoded data removed]",
      "text/plain": [
       "<matplotlib.figure.Figure at 0x11aa4c6a0>"
      ]
     },
     "metadata": {},
     "output_type": "display_data"
    }
   ],
   "source": [
    "plt.scatter(post_data['Mfg_Year'], post_data['Price'])\n",
    "plt.show()"
   ]
  },
  {
   "cell_type": "markdown",
   "metadata": {},
   "source": [
    "### Since the data 'Before 2002' and 'After 2002' seems to be discrete, let's create the categorical variable called 'After 2002'"
   ]
  },
  {
   "cell_type": "code",
   "execution_count": 27,
   "metadata": {},
   "outputs": [
    {
     "data": {
      "text/plain": [
       "1    885\n",
       "0    134\n",
       "Name: After_2002, dtype: int64"
      ]
     },
     "execution_count": 27,
     "metadata": {},
     "output_type": "execute_result"
    }
   ],
   "source": [
    "post_data['After_2002'] = post_data.apply(lambda x: x['Mfg_Year'] < 2002, axis = 1)\n",
    "dummy = pd.get_dummies(post_data['After_2002'], drop_first=True)\n",
    "dummy.columns = ['After_2002']\n",
    "post_data['After_2002'] = dummy['After_2002']\n",
    "post_data['After_2002'].value_counts()"
   ]
  },
  {
   "cell_type": "markdown",
   "metadata": {},
   "source": [
    "### There MUST BE some helpful information in 'Model' column, because manufacturers name their products in a way which customers can distinguish the grade. \n",
    "#### Eventually, I've noticed that the models including 'VVT' in their name are more expensive the models do not have 'VVT' in their names"
   ]
  },
  {
   "cell_type": "code",
   "execution_count": 28,
   "metadata": {},
   "outputs": [
    {
     "data": {
      "text/plain": [
       "Model\n",
       "TOYOTA Corolla 1.8D Stationwagen                               4400.000000\n",
       "TOYOTA Corolla 1.6 LB *G3* AIRCO 4/5-Doors                     5250.000000\n",
       "TOYOTA Corolla 1.3 I LUNA 2/3-Doors                            5845.000000\n",
       "TOYOTA Corolla 2.0 DSL WAGON LINEA TERRA COMM Anders           5900.000000\n",
       "TOYOTA Corolla 1.3i LINEA TERRA 2/3-Doors                      5950.000000\n",
       "TOYOTA Corolla 1.3 16v linea terra                             5950.000000\n",
       "TOYOTA Corolla 1.3 16V Linea Terra 2/3-Doors                   5950.000000\n",
       "TOYOTA Corolla 2.0diesel Stationwagen                          6250.000000\n",
       "TOYOTA Corolla 1.9 D SEDAN TERRA 4/5-Doors                     6400.000000\n",
       "TOYOTA Corolla 1.3 16V HATCHB 2/3-Doors                        6875.000000\n",
       "TOYOTA Corolla 1.6 lb aut 4/5-Doors                            6900.000000\n",
       "TOYOTA Corolla 2.0D TERRA LIFTBACK 4/5-Doors                   6900.000000\n",
       "TOYOTA Corolla 1.3 LIN. Terra 2/3-Doors                        6900.000000\n",
       "TOYOTA Corolla 1.6 LB LINEA TERRA 4/5-Doors                    6950.000000\n",
       "TOYOTA Corolla 1.3 16V L. TERRA COMFORT 2/3-Doors              6950.000000\n",
       "TOYOTA Corolla 2.0 D Linea Terra 3d 2/3-Doors                  6950.000000\n",
       "TOYOTA Corolla 1.6 Terra Stationwagen                          6990.000000\n",
       "TOYOTA Corolla 1.3 LB LINEA TERRA 4/5-Doors                    7225.000000\n",
       "TOYOTA Corolla 1.6 16v Linea Terra 4/5-Doors                   7250.000000\n",
       "TOYOTA Corolla 2.0 DSL LIFTB LINEA LUNA 4/5-Doors              7475.000000\n",
       "TOYOTA Corolla 1.6 WGN LINEA TERRA Stationwagen                7500.000000\n",
       "TOYOTA Corolla 2.0 DSL HATCHB LINEA LUNA 2/3-Doors             7550.000000\n",
       "TOYOTA Corolla LIFTBACK 1.6 Linea Luna Liftback 4/5-Doors      7600.000000\n",
       "TOYOTA Corolla 1.6 VVTi Linea terra 2/3-Doors                  7725.000000\n",
       "TOYOTA Corolla 1.9 D WGN LINEA TERRA Stationwagen              7750.000000\n",
       "TOYOTA Corolla 1.3 3D Linea Terra 2/3-Doors                    7850.000000\n",
       "TOYOTA Corolla 1.6 LB LINEA LUNA 4/5-Doors                     7883.333333\n",
       "TOYOTA Corolla 1.3 16V HATCHB S 2/3-Doors                      7900.000000\n",
       "TOYOTA Corolla 1.6 16v TERRA 4/5-Doors                         7900.000000\n",
       "TOYOTA Corolla 1.6i-16 SPORTS TC 2/3-Doors                     7900.000000\n",
       "                                                                  ...     \n",
       "TOYOTA Corolla 1.6 5drs 1 4/5-Doors                           18950.000000\n",
       " TOYOTA Corolla 1.6 16V VVT I 5DR SOL AUT4 4/5-Doors          18950.000000\n",
       "TOYOTA Corolla 1.6 16V VVT I 5DR SOL AUT4 4/5-Doors           19400.000000\n",
       "TOYOTA Corolla 1.6 16V VVT I 3DR TERRA COMF AUT 2/3-Doors     19450.000000\n",
       "TOYOTA Corolla 1.6 16V VVT I SEDAN SOL 4/5-Doors              19500.000000\n",
       "TOYOTA Corolla 1.4 16V VVT I 5DR LUNA 4/5-Doors               19500.000000\n",
       "TOYOTA Corolla 1.6 16V VVT I 5DR SOL 4/5-Doors                19516.666667\n",
       "TOYOTA Corolla 2.0 D 4D Linea Sol 3 Doors 2/3-Doors           19950.000000\n",
       " TOYOTA Corolla 2.0 D4D Linea Terra Comfort 4/5-Doors         19950.000000\n",
       "TOYOTA Corolla 1.6 16V VVT I 5DR SOL BNS 4/5-Doors            19950.000000\n",
       " TOYOTA Corolla 1.6 16V VVT I 5DR TERRA COMF AUT 4/5-Doors    20500.000000\n",
       " TOYOTA Corolla 1.6 16v VVTi Linea Sol 4/5-Doors              20750.000000\n",
       "TOYOTA Corolla 1.8 VVTL-i T-Sport 3-Drs 2/3-Doors             20950.000000\n",
       "TOYOTA Corolla 1.6 16V VVT I SEDAN SOL BNS AUT4 4/5-Doors     20950.000000\n",
       "TOYOTA Corolla 1.6 16V VVT I SEDAN SOL AUT4 4/5-Doors         20950.000000\n",
       "TOYOTA Corolla 1.8 16V VVTLI 3DR T SPORT 2/3-Doors            21033.333333\n",
       "TOYOTA Corolla 1.6 16V VVT I 5DR EXEC 4/5-Doors               21150.000000\n",
       "TOYOTA Corolla 1.8 VVTL-i T-Sport 4/5-Doors                   21950.000000\n",
       " TOYOTA Corolla 2.0 D4D 90 5DR SOL 4/5-Doors                  21950.000000\n",
       " TOYOTA Corolla 2.0 D4D 90 3DR SOL BNS 2/3-Doors              22250.000000\n",
       " TOYOTA Corolla 1.8 16V VVTLI 3DR T SPORT 2/3-Doors           22750.000000\n",
       "TOYOTA Corolla 2.0 D4D 116 5DR LUNA 4/5-Doors                 22950.000000\n",
       "TOYOTA Corolla Luna 5drs D4D116 PK 4/5-Doors                  23000.000000\n",
       "TOYOTA Corolla 1.6-16v VVT-i Executive B.edition 4/5-Doors    23750.000000\n",
       " TOYOTA Corolla 1.8 VVTL-i T-Sport 3-Drs 4/5-Doors            23950.000000\n",
       "TOYOTA Corolla 1.6 16V VVT I 5DR EXEC BNS 4/5-Doors           24500.000000\n",
       " TOYOTA Corolla VERSO 2.0 D4D LINEA SOL MPV                   24950.000000\n",
       "TOYOTA Corolla VERSO 2.0 D4D LINEA SOL MPV                    24950.000000\n",
       "TOYOTA Corolla 2.0 D4D 90 WAGON SOL Stationwagen              24990.000000\n",
       "TOYOTA Corolla VERSO 2.0 D4D SOL (7) MPV                      31000.000000\n",
       "Name: Price, Length: 301, dtype: float64"
      ]
     },
     "execution_count": 28,
     "metadata": {},
     "output_type": "execute_result"
    }
   ],
   "source": [
    "post_data.groupby('Model', as_index=True)['Price'].mean().sort_values()"
   ]
  },
  {
   "cell_type": "markdown",
   "metadata": {},
   "source": [
    "#### Let's add the 'VVT' variable telling us whether the data point is VVT model or not"
   ]
  },
  {
   "cell_type": "code",
   "execution_count": 29,
   "metadata": {},
   "outputs": [
    {
     "data": {
      "text/html": [
       "<div>\n",
       "<style>\n",
       "    .dataframe thead tr:only-child th {\n",
       "        text-align: right;\n",
       "    }\n",
       "\n",
       "    .dataframe thead th {\n",
       "        text-align: left;\n",
       "    }\n",
       "\n",
       "    .dataframe tbody tr th {\n",
       "        vertical-align: top;\n",
       "    }\n",
       "</style>\n",
       "<table border=\"1\" class=\"dataframe\">\n",
       "  <thead>\n",
       "    <tr style=\"text-align: right;\">\n",
       "      <th></th>\n",
       "      <th>Id</th>\n",
       "      <th>Model</th>\n",
       "      <th>Price</th>\n",
       "      <th>Age_08_04</th>\n",
       "      <th>Mfg_Month</th>\n",
       "      <th>Mfg_Year</th>\n",
       "      <th>KM</th>\n",
       "      <th>Fuel_Type</th>\n",
       "      <th>HP</th>\n",
       "      <th>Met_Color</th>\n",
       "      <th>...</th>\n",
       "      <th>Radio</th>\n",
       "      <th>Mistlamps</th>\n",
       "      <th>Sport_Model</th>\n",
       "      <th>Backseat_Divider</th>\n",
       "      <th>Metallic_Rim</th>\n",
       "      <th>Radio_cassette</th>\n",
       "      <th>Parking_Assistant</th>\n",
       "      <th>Tow_Bar</th>\n",
       "      <th>After_2002</th>\n",
       "      <th>vvt</th>\n",
       "    </tr>\n",
       "  </thead>\n",
       "  <tbody>\n",
       "    <tr>\n",
       "      <th>0</th>\n",
       "      <td>1</td>\n",
       "      <td>TOYOTA Corolla 2.0 D4D HATCHB TERRA 2/3-Doors</td>\n",
       "      <td>13500</td>\n",
       "      <td>23</td>\n",
       "      <td>10</td>\n",
       "      <td>2002</td>\n",
       "      <td>46986.0</td>\n",
       "      <td>Diesel</td>\n",
       "      <td>90</td>\n",
       "      <td>1</td>\n",
       "      <td>...</td>\n",
       "      <td>0</td>\n",
       "      <td>0</td>\n",
       "      <td>0</td>\n",
       "      <td>1</td>\n",
       "      <td>0</td>\n",
       "      <td>0</td>\n",
       "      <td>0</td>\n",
       "      <td>0</td>\n",
       "      <td>0</td>\n",
       "      <td>0</td>\n",
       "    </tr>\n",
       "    <tr>\n",
       "      <th>1</th>\n",
       "      <td>2</td>\n",
       "      <td>TOYOTA Corolla 2.0 D4D HATCHB TERRA 2/3-Doors</td>\n",
       "      <td>13750</td>\n",
       "      <td>23</td>\n",
       "      <td>10</td>\n",
       "      <td>2002</td>\n",
       "      <td>72937.0</td>\n",
       "      <td>Diesel</td>\n",
       "      <td>90</td>\n",
       "      <td>1</td>\n",
       "      <td>...</td>\n",
       "      <td>0</td>\n",
       "      <td>0</td>\n",
       "      <td>0</td>\n",
       "      <td>1</td>\n",
       "      <td>0</td>\n",
       "      <td>0</td>\n",
       "      <td>0</td>\n",
       "      <td>0</td>\n",
       "      <td>0</td>\n",
       "      <td>0</td>\n",
       "    </tr>\n",
       "  </tbody>\n",
       "</table>\n",
       "<p>2 rows × 41 columns</p>\n",
       "</div>"
      ],
      "text/plain": [
       "   Id                                          Model  Price  Age_08_04  \\\n",
       "0   1  TOYOTA Corolla 2.0 D4D HATCHB TERRA 2/3-Doors  13500         23   \n",
       "1   2  TOYOTA Corolla 2.0 D4D HATCHB TERRA 2/3-Doors  13750         23   \n",
       "\n",
       "   Mfg_Month  Mfg_Year       KM Fuel_Type  HP  Met_Color ...  Radio  \\\n",
       "0         10      2002  46986.0    Diesel  90          1 ...      0   \n",
       "1         10      2002  72937.0    Diesel  90          1 ...      0   \n",
       "\n",
       "   Mistlamps  Sport_Model  Backseat_Divider  Metallic_Rim  Radio_cassette  \\\n",
       "0          0            0                 1             0               0   \n",
       "1          0            0                 1             0               0   \n",
       "\n",
       "   Parking_Assistant  Tow_Bar  After_2002  vvt  \n",
       "0                  0        0           0    0  \n",
       "1                  0        0           0    0  \n",
       "\n",
       "[2 rows x 41 columns]"
      ]
     },
     "execution_count": 29,
     "metadata": {},
     "output_type": "execute_result"
    }
   ],
   "source": [
    "import re\n",
    "pattern = re.compile(r'vvt', flags=re.IGNORECASE)\n",
    "vvt= []\n",
    "for i in post_data['Model']:\n",
    "    result = pattern.search(i)\n",
    "    if result:\n",
    "        vvt.append(1)\n",
    "    else:\n",
    "        vvt.append(0)\n",
    "\n",
    "post_data['vvt'] = pd.Series(vvt)\n",
    "post_data[:2]"
   ]
  },
  {
   "cell_type": "markdown",
   "metadata": {},
   "source": [
    "## Second, from Heuristic Perspective"
   ]
  },
  {
   "cell_type": "markdown",
   "metadata": {},
   "source": [
    "* Usually several options are combined and provided as a 'Premium Package'.\n",
    "### Let's combine the options(categorical variables) that have 10% ~ 30% of R**2 values \n",
    "  (note: the weights were calculated AFTER we simulated the multi-variables linear regression)"
   ]
  },
  {
   "cell_type": "code",
   "execution_count": 30,
   "metadata": {
    "collapsed": true
   },
   "outputs": [],
   "source": [
    "post_data['Premium_option'] = (post_data['CD_Player']*2)+(post_data['Airco']*1.2)+post_data['Powered_Windows']+post_data['Central_Lock']+post_data['ABS']"
   ]
  },
  {
   "cell_type": "markdown",
   "metadata": {},
   "source": [
    "* Recall the time we bought our own automobiles. \n",
    "* We would first ask the dealer 'what model of the year' the car is.\n",
    "* Then, if the several cars were the same model, we would choose the one with less Km. \n",
    "### Therefore, it might be meaningful if we can find relative 'Km' among the same 'Mfg_Year' group of cars. \n",
    "     (The calculation is similar to standardization of scale)"
   ]
  },
  {
   "cell_type": "code",
   "execution_count": 31,
   "metadata": {
    "collapsed": true
   },
   "outputs": [],
   "source": [
    "post_data['KM_from_mean'] = ''\n",
    "kmmean_1998 = post_data['KM'][post_data['Mfg_Year']==1998].mean()\n",
    "kmstd_1998 = post_data['KM'][post_data['Mfg_Year']==1998].std()\n",
    "\n",
    "kmmean_1999 = post_data['KM'][post_data['Mfg_Year']==1999].mean()\n",
    "kmstd_1999 = post_data['KM'][post_data['Mfg_Year']==1999].std()\n",
    "\n",
    "kmmean_2000 = post_data['KM'][post_data['Mfg_Year']==2000].mean()\n",
    "kmstd_2000 = post_data['KM'][post_data['Mfg_Year']==2000].std()\n",
    "\n",
    "kmmean_2001 = post_data['KM'][post_data['Mfg_Year']==2001].mean()\n",
    "kmstd_2001 = post_data['KM'][post_data['Mfg_Year']==2001].std()\n",
    "\n",
    "kmmean_2002 = post_data['KM'][post_data['Mfg_Year']==2002].mean()\n",
    "kmstd_2002 = post_data['KM'][post_data['Mfg_Year']==2002].std()\n",
    "\n",
    "kmmean_2003 = post_data['KM'][post_data['Mfg_Year']==2003].mean()\n",
    "kmstd_2003 = post_data['KM'][post_data['Mfg_Year']==2003].std()\n",
    "\n",
    "kmmean_2004 = post_data['KM'][post_data['Mfg_Year']==2004].mean()\n",
    "kmstd_2004 = post_data['KM'][post_data['Mfg_Year']==2004].std()\n",
    "\n",
    "temp_list = []\n",
    "for i in range(len(post_data['Mfg_Year'])):\n",
    "    if post_data.loc[i,'Mfg_Year'] == 1998:\n",
    "        temp_list.append((kmmean_1998 - post_data.loc[i, 'KM'])/kmstd_1998)\n",
    "    elif post_data.loc[i,'Mfg_Year'] == 1999:\n",
    "        temp_list.append((kmmean_1999 - post_data.loc[i, 'KM'])/kmstd_1999)\n",
    "    elif post_data.loc[i,'Mfg_Year'] == 2000:\n",
    "        temp_list.append((kmmean_2000 - post_data.loc[i, 'KM'])/kmstd_2000)\n",
    "    elif post_data.loc[i,'Mfg_Year'] == 2001:\n",
    "        temp_list.append((kmmean_2001 - post_data.loc[i, 'KM'])/kmstd_2001)\n",
    "    elif post_data.loc[i,'Mfg_Year'] == 2002:\n",
    "        temp_list.append((kmmean_2002 - post_data.loc[i, 'KM'])/kmstd_2002)\n",
    "    elif post_data.loc[i,'Mfg_Year'] == 2003:\n",
    "        temp_list.append((kmmean_2003 - post_data.loc[i, 'KM'])/kmstd_2003)\n",
    "    elif post_data.loc[i,'Mfg_Year'] == 2004:\n",
    "        temp_list.append((kmmean_2004 - post_data.loc[i, 'KM'])/kmstd_2004)\n",
    "    else:\n",
    "        print (\"Something wrong at{}\".format(i))\n",
    "\n",
    "post_data['KM_from_mean_std_base'] = temp_list  "
   ]
  },
  {
   "cell_type": "code",
   "execution_count": 32,
   "metadata": {
    "collapsed": true
   },
   "outputs": [],
   "source": [
    "temp_list = []\n",
    "for i in range(len(post_data['Mfg_Year'])):\n",
    "    if post_data.loc[i,'Mfg_Year'] == 1998:\n",
    "        temp_list.append((kmmean_1998 - post_data.loc[i, 'KM']))\n",
    "    elif post_data.loc[i,'Mfg_Year'] == 1999:\n",
    "        temp_list.append((kmmean_1999 - post_data.loc[i, 'KM']))\n",
    "    elif post_data.loc[i,'Mfg_Year'] == 2000:\n",
    "        temp_list.append((kmmean_2000 - post_data.loc[i, 'KM']))\n",
    "    elif post_data.loc[i,'Mfg_Year'] == 2001:\n",
    "        temp_list.append((kmmean_2001 - post_data.loc[i, 'KM']))\n",
    "    elif post_data.loc[i,'Mfg_Year'] == 2002:\n",
    "        temp_list.append((kmmean_2002 - post_data.loc[i, 'KM']))\n",
    "    elif post_data.loc[i,'Mfg_Year'] == 2003:\n",
    "        temp_list.append((kmmean_2003 - post_data.loc[i, 'KM']))\n",
    "    elif post_data.loc[i,'Mfg_Year'] == 2004:\n",
    "        temp_list.append((kmmean_2004 - post_data.loc[i, 'KM']))\n",
    "    else:\n",
    "        print (\"Something wrong at{}\".format(i))\n",
    "\n",
    "post_data['KM_from_mean'] = temp_list\n"
   ]
  },
  {
   "cell_type": "code",
   "execution_count": 33,
   "metadata": {},
   "outputs": [
    {
     "data": {
      "image/png": "[encoded data removed]",
      "text/plain": [
       "<matplotlib.figure.Figure at 0x11a149198>"
      ]
     },
     "metadata": {},
     "output_type": "display_data"
    }
   ],
   "source": [
    "plt.hist(post_data['KM_from_mean_std_base'])\n",
    "plt.show()"
   ]
  },
  {
   "cell_type": "code",
   "execution_count": 34,
   "metadata": {},
   "outputs": [
    {
     "data": {
      "image/png": "[encoded data removed]",
      "text/plain": [
       "<matplotlib.figure.Figure at 0x119ed7240>"
      ]
     },
     "metadata": {},
     "output_type": "display_data"
    }
   ],
   "source": [
    "plt.scatter(post_data['KM_from_mean_std_base'], post_data['Price'])\n",
    "plt.show()"
   ]
  },
  {
   "cell_type": "markdown",
   "metadata": {},
   "source": [
    "#### We subtracted the price from the average, so the higher x value means 'less Km' compared to the mean. \n",
    "#### Not too strongm, but it seems to have linear positive correlation with price."
   ]
  },
  {
   "cell_type": "markdown",
   "metadata": {},
   "source": [
    "## Finally, I proceeded the dummification for the categorical variables I am goint to use"
   ]
  },
  {
   "cell_type": "code",
   "execution_count": 35,
   "metadata": {
    "collapsed": true
   },
   "outputs": [],
   "source": [
    "dummy = pd.get_dummies(post_data['Doors'], drop_first=True)\n",
    "dummy.columns = ['D3','D4', 'D5']\n",
    "dummy[:3]\n",
    "post_data = pd.concat([post_data, dummy], axis = 1)\n",
    "dummy = pd.get_dummies(post_data['Fuel_Type'], drop_first=True)\n",
    "dummy.columns = ['Diesel','Petrol']\n",
    "dummy[:3]\n",
    "post_data = pd.concat([post_data, dummy], axis = 1)"
   ]
  },
  {
   "cell_type": "markdown",
   "metadata": {},
   "source": [
    "### Let's append the newly created variables to my column list"
   ]
  },
  {
   "cell_type": "code",
   "execution_count": 38,
   "metadata": {
    "collapsed": true
   },
   "outputs": [],
   "source": [
    "y_data = post_data['Price']\n",
    "cols_nu = ['Age_08_04', 'Mfg_Year', 'KM', 'HP', 'CC', 'Quarterly_Tax', 'Weight','Guarantee_Period', 'Premium_option', \n",
    "           'KM_from_mean_std_base', 'KM_from_mean']\n",
    "cols_cat = ['Model', 'Fuel_Type', 'Met_Color', 'Color', 'Automatic', 'Doors', 'Gears', 'Mfr_Guarantee', 'BOVAG_Guarantee',\n",
    "            'ABS', 'Airbag_1', 'Airbag_2', 'Airco', 'Automatic_airco', 'Boardcomputer', 'CD_Player', 'Central_Lock',\n",
    "            'Powered_Windows', 'Power_Steering', 'Radio', 'Mistlamps', 'Sport_Model', 'Backseat_Divider', 'Metallic_Rim',\n",
    "            'Radio_cassette', 'Parking_Assistant', 'Tow_Bar','After_2002', 'vvt', 'D3', 'D4', 'D5', 'Diesel', 'Petrol']"
   ]
  },
  {
   "cell_type": "markdown",
   "metadata": {},
   "source": [
    "### To briefly summarize the created variables...\n",
    "* Created the varialbe which tells us whether the data is 'Before 2002' model or 'After 2002' model.\n",
    "* Created the variable which tells us whether the data is VVT model or not\n",
    "* Created the variable called 'Premium Option', which is the sum of options with lower R**2 values\n",
    "* Created the variable which tells us whether the data has higher or lower Km compared to the group of the same Mfg_year\n"
   ]
  },
  {
   "cell_type": "markdown",
   "metadata": {},
   "source": [
    "# Re-Run the Simple Linear Regression Model"
   ]
  },
  {
   "cell_type": "code",
   "execution_count": 39,
   "metadata": {},
   "outputs": [
    {
     "data": {
      "text/html": [
       "<div>\n",
       "<style>\n",
       "    .dataframe thead tr:only-child th {\n",
       "        text-align: right;\n",
       "    }\n",
       "\n",
       "    .dataframe thead th {\n",
       "        text-align: left;\n",
       "    }\n",
       "\n",
       "    .dataframe tbody tr th {\n",
       "        vertical-align: top;\n",
       "    }\n",
       "</style>\n",
       "<table border=\"1\" class=\"dataframe\">\n",
       "  <thead>\n",
       "    <tr style=\"text-align: right;\">\n",
       "      <th></th>\n",
       "      <th>R2</th>\n",
       "      <th>P-value</th>\n",
       "      <th>Beta</th>\n",
       "    </tr>\n",
       "  </thead>\n",
       "  <tbody>\n",
       "    <tr>\n",
       "      <th>Mfg_Year</th>\n",
       "      <td>0.797988</td>\n",
       "      <td>0</td>\n",
       "      <td>2085.3</td>\n",
       "    </tr>\n",
       "    <tr>\n",
       "      <th>Age_08_04</th>\n",
       "      <td>0.781279</td>\n",
       "      <td>0</td>\n",
       "      <td>-171.649</td>\n",
       "    </tr>\n",
       "    <tr>\n",
       "      <th>Premium_option</th>\n",
       "      <td>0.356501</td>\n",
       "      <td>1.85348e-99</td>\n",
       "      <td>1114.52</td>\n",
       "    </tr>\n",
       "    <tr>\n",
       "      <th>KM</th>\n",
       "      <td>0.333567</td>\n",
       "      <td>1.03694e-91</td>\n",
       "      <td>-0.0551872</td>\n",
       "    </tr>\n",
       "    <tr>\n",
       "      <th>Weight</th>\n",
       "      <td>0.310266</td>\n",
       "      <td>4.1794e-84</td>\n",
       "      <td>39.2081</td>\n",
       "    </tr>\n",
       "    <tr>\n",
       "      <th>HP</th>\n",
       "      <td>0.0991609</td>\n",
       "      <td>6.8285e-25</td>\n",
       "      <td>76.8569</td>\n",
       "    </tr>\n",
       "    <tr>\n",
       "      <th>Quarterly_Tax</th>\n",
       "      <td>0.0319958</td>\n",
       "      <td>8.95663e-09</td>\n",
       "      <td>16.4635</td>\n",
       "    </tr>\n",
       "    <tr>\n",
       "      <th>Guarantee_Period</th>\n",
       "      <td>0.0276028</td>\n",
       "      <td>9.60109e-08</td>\n",
       "      <td>205.276</td>\n",
       "    </tr>\n",
       "    <tr>\n",
       "      <th>CC</th>\n",
       "      <td>0.0210399</td>\n",
       "      <td>3.33192e-06</td>\n",
       "      <td>2.83832</td>\n",
       "    </tr>\n",
       "    <tr>\n",
       "      <th>KM_from_mean_std_base</th>\n",
       "      <td>0.0173681</td>\n",
       "      <td>2.44129e-05</td>\n",
       "      <td>477.822</td>\n",
       "    </tr>\n",
       "    <tr>\n",
       "      <th>KM_from_mean</th>\n",
       "      <td>0.0165039</td>\n",
       "      <td>3.9067e-05</td>\n",
       "      <td>0.0143734</td>\n",
       "    </tr>\n",
       "  </tbody>\n",
       "</table>\n",
       "</div>"
      ],
      "text/plain": [
       "                              R2      P-value       Beta\n",
       "Mfg_Year                0.797988            0     2085.3\n",
       "Age_08_04               0.781279            0   -171.649\n",
       "Premium_option          0.356501  1.85348e-99    1114.52\n",
       "KM                      0.333567  1.03694e-91 -0.0551872\n",
       "Weight                  0.310266   4.1794e-84    39.2081\n",
       "HP                     0.0991609   6.8285e-25    76.8569\n",
       "Quarterly_Tax          0.0319958  8.95663e-09    16.4635\n",
       "Guarantee_Period       0.0276028  9.60109e-08    205.276\n",
       "CC                     0.0210399  3.33192e-06    2.83832\n",
       "KM_from_mean_std_base  0.0173681  2.44129e-05    477.822\n",
       "KM_from_mean           0.0165039   3.9067e-05  0.0143734"
      ]
     },
     "execution_count": 39,
     "metadata": {},
     "output_type": "execute_result"
    }
   ],
   "source": [
    "for i in cols_nu:\n",
    "    model = smf.ols(\"Price ~ {}\".format(i), post_data).fit()\n",
    "    nu_variable_stats.loc[i, 'R2'] = model.rsquared\n",
    "    nu_variable_stats.loc[i, 'P-value'] = model.f_pvalue\n",
    "    nu_variable_stats.loc[i, 'Beta'] = model.params[1]\n",
    "nu_variable_stats.sort_values('R2', ascending=False)"
   ]
  },
  {
   "cell_type": "code",
   "execution_count": 40,
   "metadata": {},
   "outputs": [
    {
     "data": {
      "text/html": [
       "<div>\n",
       "<style>\n",
       "    .dataframe thead tr:only-child th {\n",
       "        text-align: right;\n",
       "    }\n",
       "\n",
       "    .dataframe thead th {\n",
       "        text-align: left;\n",
       "    }\n",
       "\n",
       "    .dataframe tbody tr th {\n",
       "        vertical-align: top;\n",
       "    }\n",
       "</style>\n",
       "<table border=\"1\" class=\"dataframe\">\n",
       "  <thead>\n",
       "    <tr style=\"text-align: right;\">\n",
       "      <th></th>\n",
       "      <th>R2</th>\n",
       "      <th>P-value</th>\n",
       "      <th>Beta</th>\n",
       "      <th>Petrol</th>\n",
       "      <th>Diesel</th>\n",
       "      <th>CNG</th>\n",
       "      <th>1</th>\n",
       "      <th>0</th>\n",
       "      <th>Grey</th>\n",
       "      <th>Red</th>\n",
       "      <th>...</th>\n",
       "      <th>Silver</th>\n",
       "      <th>White</th>\n",
       "      <th>Beige</th>\n",
       "      <th>Yellow</th>\n",
       "      <th>Violet</th>\n",
       "      <th>5</th>\n",
       "      <th>3</th>\n",
       "      <th>4</th>\n",
       "      <th>2</th>\n",
       "      <th>6</th>\n",
       "    </tr>\n",
       "  </thead>\n",
       "  <tbody>\n",
       "    <tr>\n",
       "      <th>Model</th>\n",
       "      <td>0.916366</td>\n",
       "      <td>3.84556e-261</td>\n",
       "      <td>550</td>\n",
       "      <td>NaN</td>\n",
       "      <td>NaN</td>\n",
       "      <td>NaN</td>\n",
       "      <td>NaN</td>\n",
       "      <td>NaN</td>\n",
       "      <td>NaN</td>\n",
       "      <td>NaN</td>\n",
       "      <td>...</td>\n",
       "      <td>NaN</td>\n",
       "      <td>NaN</td>\n",
       "      <td>NaN</td>\n",
       "      <td>NaN</td>\n",
       "      <td>NaN</td>\n",
       "      <td>NaN</td>\n",
       "      <td>NaN</td>\n",
       "      <td>NaN</td>\n",
       "      <td>NaN</td>\n",
       "      <td>NaN</td>\n",
       "    </tr>\n",
       "    <tr>\n",
       "      <th>After_2002</th>\n",
       "      <td>0.664398</td>\n",
       "      <td>2.33686e-243</td>\n",
       "      <td>-8714.81</td>\n",
       "      <td>NaN</td>\n",
       "      <td>NaN</td>\n",
       "      <td>NaN</td>\n",
       "      <td>86.849853</td>\n",
       "      <td>13.150147</td>\n",
       "      <td>NaN</td>\n",
       "      <td>NaN</td>\n",
       "      <td>...</td>\n",
       "      <td>NaN</td>\n",
       "      <td>NaN</td>\n",
       "      <td>NaN</td>\n",
       "      <td>NaN</td>\n",
       "      <td>NaN</td>\n",
       "      <td>NaN</td>\n",
       "      <td>NaN</td>\n",
       "      <td>NaN</td>\n",
       "      <td>NaN</td>\n",
       "      <td>NaN</td>\n",
       "    </tr>\n",
       "    <tr>\n",
       "      <th>Boardcomputer</th>\n",
       "      <td>0.365576</td>\n",
       "      <td>1.3363e-102</td>\n",
       "      <td>4846.7</td>\n",
       "      <td>NaN</td>\n",
       "      <td>NaN</td>\n",
       "      <td>NaN</td>\n",
       "      <td>28.361138</td>\n",
       "      <td>71.638862</td>\n",
       "      <td>NaN</td>\n",
       "      <td>NaN</td>\n",
       "      <td>...</td>\n",
       "      <td>NaN</td>\n",
       "      <td>NaN</td>\n",
       "      <td>NaN</td>\n",
       "      <td>NaN</td>\n",
       "      <td>NaN</td>\n",
       "      <td>NaN</td>\n",
       "      <td>NaN</td>\n",
       "      <td>NaN</td>\n",
       "      <td>NaN</td>\n",
       "      <td>NaN</td>\n",
       "    </tr>\n",
       "    <tr>\n",
       "      <th>Automatic_airco</th>\n",
       "      <td>0.354131</td>\n",
       "      <td>1.20611e-98</td>\n",
       "      <td>9063.62</td>\n",
       "      <td>NaN</td>\n",
       "      <td>NaN</td>\n",
       "      <td>NaN</td>\n",
       "      <td>5.986261</td>\n",
       "      <td>94.013739</td>\n",
       "      <td>NaN</td>\n",
       "      <td>NaN</td>\n",
       "      <td>...</td>\n",
       "      <td>NaN</td>\n",
       "      <td>NaN</td>\n",
       "      <td>NaN</td>\n",
       "      <td>NaN</td>\n",
       "      <td>NaN</td>\n",
       "      <td>NaN</td>\n",
       "      <td>NaN</td>\n",
       "      <td>NaN</td>\n",
       "      <td>NaN</td>\n",
       "      <td>NaN</td>\n",
       "    </tr>\n",
       "    <tr>\n",
       "      <th>vvt</th>\n",
       "      <td>0.350618</td>\n",
       "      <td>1.91189e-97</td>\n",
       "      <td>4557.91</td>\n",
       "      <td>NaN</td>\n",
       "      <td>NaN</td>\n",
       "      <td>NaN</td>\n",
       "      <td>32.777233</td>\n",
       "      <td>67.222767</td>\n",
       "      <td>NaN</td>\n",
       "      <td>NaN</td>\n",
       "      <td>...</td>\n",
       "      <td>NaN</td>\n",
       "      <td>NaN</td>\n",
       "      <td>NaN</td>\n",
       "      <td>NaN</td>\n",
       "      <td>NaN</td>\n",
       "      <td>NaN</td>\n",
       "      <td>NaN</td>\n",
       "      <td>NaN</td>\n",
       "      <td>NaN</td>\n",
       "      <td>NaN</td>\n",
       "    </tr>\n",
       "    <tr>\n",
       "      <th>CD_Player</th>\n",
       "      <td>0.243082</td>\n",
       "      <td>1.58629e-63</td>\n",
       "      <td>4254.76</td>\n",
       "      <td>NaN</td>\n",
       "      <td>NaN</td>\n",
       "      <td>NaN</td>\n",
       "      <td>22.669284</td>\n",
       "      <td>77.330716</td>\n",
       "      <td>NaN</td>\n",
       "      <td>NaN</td>\n",
       "      <td>...</td>\n",
       "      <td>NaN</td>\n",
       "      <td>NaN</td>\n",
       "      <td>NaN</td>\n",
       "      <td>NaN</td>\n",
       "      <td>NaN</td>\n",
       "      <td>NaN</td>\n",
       "      <td>NaN</td>\n",
       "      <td>NaN</td>\n",
       "      <td>NaN</td>\n",
       "      <td>NaN</td>\n",
       "    </tr>\n",
       "    <tr>\n",
       "      <th>Airco</th>\n",
       "      <td>0.197411</td>\n",
       "      <td>1.52604e-50</td>\n",
       "      <td>3210.9</td>\n",
       "      <td>NaN</td>\n",
       "      <td>NaN</td>\n",
       "      <td>NaN</td>\n",
       "      <td>50.441609</td>\n",
       "      <td>49.558391</td>\n",
       "      <td>NaN</td>\n",
       "      <td>NaN</td>\n",
       "      <td>...</td>\n",
       "      <td>NaN</td>\n",
       "      <td>NaN</td>\n",
       "      <td>NaN</td>\n",
       "      <td>NaN</td>\n",
       "      <td>NaN</td>\n",
       "      <td>NaN</td>\n",
       "      <td>NaN</td>\n",
       "      <td>NaN</td>\n",
       "      <td>NaN</td>\n",
       "      <td>NaN</td>\n",
       "    </tr>\n",
       "    <tr>\n",
       "      <th>Powered_Windows</th>\n",
       "      <td>0.131775</td>\n",
       "      <td>4.26527e-33</td>\n",
       "      <td>2647.29</td>\n",
       "      <td>NaN</td>\n",
       "      <td>NaN</td>\n",
       "      <td>NaN</td>\n",
       "      <td>56.722277</td>\n",
       "      <td>43.277723</td>\n",
       "      <td>NaN</td>\n",
       "      <td>NaN</td>\n",
       "      <td>...</td>\n",
       "      <td>NaN</td>\n",
       "      <td>NaN</td>\n",
       "      <td>NaN</td>\n",
       "      <td>NaN</td>\n",
       "      <td>NaN</td>\n",
       "      <td>NaN</td>\n",
       "      <td>NaN</td>\n",
       "      <td>NaN</td>\n",
       "      <td>NaN</td>\n",
       "      <td>NaN</td>\n",
       "    </tr>\n",
       "    <tr>\n",
       "      <th>Central_Lock</th>\n",
       "      <td>0.13047</td>\n",
       "      <td>9.19823e-33</td>\n",
       "      <td>2649.6</td>\n",
       "      <td>NaN</td>\n",
       "      <td>NaN</td>\n",
       "      <td>NaN</td>\n",
       "      <td>58.586850</td>\n",
       "      <td>41.413150</td>\n",
       "      <td>NaN</td>\n",
       "      <td>NaN</td>\n",
       "      <td>...</td>\n",
       "      <td>NaN</td>\n",
       "      <td>NaN</td>\n",
       "      <td>NaN</td>\n",
       "      <td>NaN</td>\n",
       "      <td>NaN</td>\n",
       "      <td>NaN</td>\n",
       "      <td>NaN</td>\n",
       "      <td>NaN</td>\n",
       "      <td>NaN</td>\n",
       "      <td>NaN</td>\n",
       "    </tr>\n",
       "    <tr>\n",
       "      <th>ABS</th>\n",
       "      <td>0.0926474</td>\n",
       "      <td>2.753e-23</td>\n",
       "      <td>2823.78</td>\n",
       "      <td>NaN</td>\n",
       "      <td>NaN</td>\n",
       "      <td>NaN</td>\n",
       "      <td>81.354269</td>\n",
       "      <td>18.645731</td>\n",
       "      <td>NaN</td>\n",
       "      <td>NaN</td>\n",
       "      <td>...</td>\n",
       "      <td>NaN</td>\n",
       "      <td>NaN</td>\n",
       "      <td>NaN</td>\n",
       "      <td>NaN</td>\n",
       "      <td>NaN</td>\n",
       "      <td>NaN</td>\n",
       "      <td>NaN</td>\n",
       "      <td>NaN</td>\n",
       "      <td>NaN</td>\n",
       "      <td>NaN</td>\n",
       "    </tr>\n",
       "    <tr>\n",
       "      <th>Airbag_2</th>\n",
       "      <td>0.059779</td>\n",
       "      <td>2.4596e-15</td>\n",
       "      <td>1961.95</td>\n",
       "      <td>NaN</td>\n",
       "      <td>NaN</td>\n",
       "      <td>NaN</td>\n",
       "      <td>71.736997</td>\n",
       "      <td>28.263003</td>\n",
       "      <td>NaN</td>\n",
       "      <td>NaN</td>\n",
       "      <td>...</td>\n",
       "      <td>NaN</td>\n",
       "      <td>NaN</td>\n",
       "      <td>NaN</td>\n",
       "      <td>NaN</td>\n",
       "      <td>NaN</td>\n",
       "      <td>NaN</td>\n",
       "      <td>NaN</td>\n",
       "      <td>NaN</td>\n",
       "      <td>NaN</td>\n",
       "      <td>NaN</td>\n",
       "    </tr>\n",
       "    <tr>\n",
       "      <th>Color</th>\n",
       "      <td>0.0547953</td>\n",
       "      <td>4.9279e-09</td>\n",
       "      <td>2416.1</td>\n",
       "      <td>NaN</td>\n",
       "      <td>NaN</td>\n",
       "      <td>NaN</td>\n",
       "      <td>NaN</td>\n",
       "      <td>NaN</td>\n",
       "      <td>20.314033</td>\n",
       "      <td>20.314033</td>\n",
       "      <td>...</td>\n",
       "      <td>8.832188</td>\n",
       "      <td>2.060844</td>\n",
       "      <td>0.294406</td>\n",
       "      <td>0.196271</td>\n",
       "      <td>0.196271</td>\n",
       "      <td>NaN</td>\n",
       "      <td>NaN</td>\n",
       "      <td>NaN</td>\n",
       "      <td>NaN</td>\n",
       "      <td>NaN</td>\n",
       "    </tr>\n",
       "    <tr>\n",
       "      <th>Mistlamps</th>\n",
       "      <td>0.0518561</td>\n",
       "      <td>1.87872e-13</td>\n",
       "      <td>1873.4</td>\n",
       "      <td>NaN</td>\n",
       "      <td>NaN</td>\n",
       "      <td>NaN</td>\n",
       "      <td>26.104024</td>\n",
       "      <td>73.895976</td>\n",
       "      <td>NaN</td>\n",
       "      <td>NaN</td>\n",
       "      <td>...</td>\n",
       "      <td>NaN</td>\n",
       "      <td>NaN</td>\n",
       "      <td>NaN</td>\n",
       "      <td>NaN</td>\n",
       "      <td>NaN</td>\n",
       "      <td>NaN</td>\n",
       "      <td>NaN</td>\n",
       "      <td>NaN</td>\n",
       "      <td>NaN</td>\n",
       "      <td>NaN</td>\n",
       "    </tr>\n",
       "    <tr>\n",
       "      <th>D5</th>\n",
       "      <td>0.03692</td>\n",
       "      <td>6.25704e-10</td>\n",
       "      <td>1390.01</td>\n",
       "      <td>NaN</td>\n",
       "      <td>NaN</td>\n",
       "      <td>NaN</td>\n",
       "      <td>47.693817</td>\n",
       "      <td>52.306183</td>\n",
       "      <td>NaN</td>\n",
       "      <td>NaN</td>\n",
       "      <td>...</td>\n",
       "      <td>NaN</td>\n",
       "      <td>NaN</td>\n",
       "      <td>NaN</td>\n",
       "      <td>NaN</td>\n",
       "      <td>NaN</td>\n",
       "      <td>NaN</td>\n",
       "      <td>NaN</td>\n",
       "      <td>NaN</td>\n",
       "      <td>NaN</td>\n",
       "      <td>NaN</td>\n",
       "    </tr>\n",
       "    <tr>\n",
       "      <th>Doors</th>\n",
       "      <td>0.032688</td>\n",
       "      <td>6.16284e-09</td>\n",
       "      <td>684.907</td>\n",
       "      <td>NaN</td>\n",
       "      <td>NaN</td>\n",
       "      <td>NaN</td>\n",
       "      <td>NaN</td>\n",
       "      <td>NaN</td>\n",
       "      <td>NaN</td>\n",
       "      <td>NaN</td>\n",
       "      <td>...</td>\n",
       "      <td>NaN</td>\n",
       "      <td>NaN</td>\n",
       "      <td>NaN</td>\n",
       "      <td>NaN</td>\n",
       "      <td>NaN</td>\n",
       "      <td>47.693817</td>\n",
       "      <td>43.081452</td>\n",
       "      <td>9.126595</td>\n",
       "      <td>0.098135</td>\n",
       "      <td>NaN</td>\n",
       "    </tr>\n",
       "    <tr>\n",
       "      <th>Sport_Model</th>\n",
       "      <td>0.0276034</td>\n",
       "      <td>9.59794e-08</td>\n",
       "      <td>1295.62</td>\n",
       "      <td>NaN</td>\n",
       "      <td>NaN</td>\n",
       "      <td>NaN</td>\n",
       "      <td>31.207066</td>\n",
       "      <td>68.792934</td>\n",
       "      <td>NaN</td>\n",
       "      <td>NaN</td>\n",
       "      <td>...</td>\n",
       "      <td>NaN</td>\n",
       "      <td>NaN</td>\n",
       "      <td>NaN</td>\n",
       "      <td>NaN</td>\n",
       "      <td>NaN</td>\n",
       "      <td>NaN</td>\n",
       "      <td>NaN</td>\n",
       "      <td>NaN</td>\n",
       "      <td>NaN</td>\n",
       "      <td>NaN</td>\n",
       "    </tr>\n",
       "    <tr>\n",
       "      <th>Mfr_Guarantee</th>\n",
       "      <td>0.0272335</td>\n",
       "      <td>1.17198e-07</td>\n",
       "      <td>1215.48</td>\n",
       "      <td>NaN</td>\n",
       "      <td>NaN</td>\n",
       "      <td>NaN</td>\n",
       "      <td>40.333660</td>\n",
       "      <td>59.666340</td>\n",
       "      <td>NaN</td>\n",
       "      <td>NaN</td>\n",
       "      <td>...</td>\n",
       "      <td>NaN</td>\n",
       "      <td>NaN</td>\n",
       "      <td>NaN</td>\n",
       "      <td>NaN</td>\n",
       "      <td>NaN</td>\n",
       "      <td>NaN</td>\n",
       "      <td>NaN</td>\n",
       "      <td>NaN</td>\n",
       "      <td>NaN</td>\n",
       "      <td>NaN</td>\n",
       "    </tr>\n",
       "    <tr>\n",
       "      <th>Tow_Bar</th>\n",
       "      <td>0.024602</td>\n",
       "      <td>4.85457e-07</td>\n",
       "      <td>-1264.01</td>\n",
       "      <td>NaN</td>\n",
       "      <td>NaN</td>\n",
       "      <td>NaN</td>\n",
       "      <td>27.870461</td>\n",
       "      <td>72.129539</td>\n",
       "      <td>NaN</td>\n",
       "      <td>NaN</td>\n",
       "      <td>...</td>\n",
       "      <td>NaN</td>\n",
       "      <td>NaN</td>\n",
       "      <td>NaN</td>\n",
       "      <td>NaN</td>\n",
       "      <td>NaN</td>\n",
       "      <td>NaN</td>\n",
       "      <td>NaN</td>\n",
       "      <td>NaN</td>\n",
       "      <td>NaN</td>\n",
       "      <td>NaN</td>\n",
       "    </tr>\n",
       "    <tr>\n",
       "      <th>Met_Color</th>\n",
       "      <td>0.0233611</td>\n",
       "      <td>9.49297e-07</td>\n",
       "      <td>1173.83</td>\n",
       "      <td>NaN</td>\n",
       "      <td>NaN</td>\n",
       "      <td>NaN</td>\n",
       "      <td>66.928361</td>\n",
       "      <td>33.071639</td>\n",
       "      <td>NaN</td>\n",
       "      <td>NaN</td>\n",
       "      <td>...</td>\n",
       "      <td>NaN</td>\n",
       "      <td>NaN</td>\n",
       "      <td>NaN</td>\n",
       "      <td>NaN</td>\n",
       "      <td>NaN</td>\n",
       "      <td>NaN</td>\n",
       "      <td>NaN</td>\n",
       "      <td>NaN</td>\n",
       "      <td>NaN</td>\n",
       "      <td>NaN</td>\n",
       "    </tr>\n",
       "    <tr>\n",
       "      <th>D3</th>\n",
       "      <td>0.0229144</td>\n",
       "      <td>1.20859e-06</td>\n",
       "      <td>-1104.52</td>\n",
       "      <td>NaN</td>\n",
       "      <td>NaN</td>\n",
       "      <td>NaN</td>\n",
       "      <td>43.081452</td>\n",
       "      <td>56.918548</td>\n",
       "      <td>NaN</td>\n",
       "      <td>NaN</td>\n",
       "      <td>...</td>\n",
       "      <td>NaN</td>\n",
       "      <td>NaN</td>\n",
       "      <td>NaN</td>\n",
       "      <td>NaN</td>\n",
       "      <td>NaN</td>\n",
       "      <td>NaN</td>\n",
       "      <td>NaN</td>\n",
       "      <td>NaN</td>\n",
       "      <td>NaN</td>\n",
       "      <td>NaN</td>\n",
       "    </tr>\n",
       "    <tr>\n",
       "      <th>Metallic_Rim</th>\n",
       "      <td>0.0187665</td>\n",
       "      <td>1.14224e-05</td>\n",
       "      <td>1246.24</td>\n",
       "      <td>NaN</td>\n",
       "      <td>NaN</td>\n",
       "      <td>NaN</td>\n",
       "      <td>19.627085</td>\n",
       "      <td>80.372915</td>\n",
       "      <td>NaN</td>\n",
       "      <td>NaN</td>\n",
       "      <td>...</td>\n",
       "      <td>NaN</td>\n",
       "      <td>NaN</td>\n",
       "      <td>NaN</td>\n",
       "      <td>NaN</td>\n",
       "      <td>NaN</td>\n",
       "      <td>NaN</td>\n",
       "      <td>NaN</td>\n",
       "      <td>NaN</td>\n",
       "      <td>NaN</td>\n",
       "      <td>NaN</td>\n",
       "    </tr>\n",
       "    <tr>\n",
       "      <th>Airbag_1</th>\n",
       "      <td>0.00913848</td>\n",
       "      <td>0.0022519</td>\n",
       "      <td>2011.15</td>\n",
       "      <td>NaN</td>\n",
       "      <td>NaN</td>\n",
       "      <td>NaN</td>\n",
       "      <td>96.957802</td>\n",
       "      <td>3.042198</td>\n",
       "      <td>NaN</td>\n",
       "      <td>NaN</td>\n",
       "      <td>...</td>\n",
       "      <td>NaN</td>\n",
       "      <td>NaN</td>\n",
       "      <td>NaN</td>\n",
       "      <td>NaN</td>\n",
       "      <td>NaN</td>\n",
       "      <td>NaN</td>\n",
       "      <td>NaN</td>\n",
       "      <td>NaN</td>\n",
       "      <td>NaN</td>\n",
       "      <td>NaN</td>\n",
       "    </tr>\n",
       "    <tr>\n",
       "      <th>Backseat_Divider</th>\n",
       "      <td>0.00657476</td>\n",
       "      <td>0.00961258</td>\n",
       "      <td>697.62</td>\n",
       "      <td>NaN</td>\n",
       "      <td>NaN</td>\n",
       "      <td>NaN</td>\n",
       "      <td>77.134446</td>\n",
       "      <td>22.865554</td>\n",
       "      <td>NaN</td>\n",
       "      <td>NaN</td>\n",
       "      <td>...</td>\n",
       "      <td>NaN</td>\n",
       "      <td>NaN</td>\n",
       "      <td>NaN</td>\n",
       "      <td>NaN</td>\n",
       "      <td>NaN</td>\n",
       "      <td>NaN</td>\n",
       "      <td>NaN</td>\n",
       "      <td>NaN</td>\n",
       "      <td>NaN</td>\n",
       "      <td>NaN</td>\n",
       "    </tr>\n",
       "    <tr>\n",
       "      <th>D4</th>\n",
       "      <td>0.00494623</td>\n",
       "      <td>0.024764</td>\n",
       "      <td>-882.384</td>\n",
       "      <td>NaN</td>\n",
       "      <td>NaN</td>\n",
       "      <td>NaN</td>\n",
       "      <td>9.126595</td>\n",
       "      <td>90.873405</td>\n",
       "      <td>NaN</td>\n",
       "      <td>NaN</td>\n",
       "      <td>...</td>\n",
       "      <td>NaN</td>\n",
       "      <td>NaN</td>\n",
       "      <td>NaN</td>\n",
       "      <td>NaN</td>\n",
       "      <td>NaN</td>\n",
       "      <td>NaN</td>\n",
       "      <td>NaN</td>\n",
       "      <td>NaN</td>\n",
       "      <td>NaN</td>\n",
       "      <td>NaN</td>\n",
       "    </tr>\n",
       "    <tr>\n",
       "      <th>Automatic</th>\n",
       "      <td>0.00463254</td>\n",
       "      <td>0.0298152</td>\n",
       "      <td>1061.45</td>\n",
       "      <td>NaN</td>\n",
       "      <td>NaN</td>\n",
       "      <td>NaN</td>\n",
       "      <td>5.691855</td>\n",
       "      <td>94.308145</td>\n",
       "      <td>NaN</td>\n",
       "      <td>NaN</td>\n",
       "      <td>...</td>\n",
       "      <td>NaN</td>\n",
       "      <td>NaN</td>\n",
       "      <td>NaN</td>\n",
       "      <td>NaN</td>\n",
       "      <td>NaN</td>\n",
       "      <td>NaN</td>\n",
       "      <td>NaN</td>\n",
       "      <td>NaN</td>\n",
       "      <td>NaN</td>\n",
       "      <td>NaN</td>\n",
       "    </tr>\n",
       "    <tr>\n",
       "      <th>Power_Steering</th>\n",
       "      <td>0.00421834</td>\n",
       "      <td>0.0381794</td>\n",
       "      <td>1488.25</td>\n",
       "      <td>NaN</td>\n",
       "      <td>NaN</td>\n",
       "      <td>NaN</td>\n",
       "      <td>97.448479</td>\n",
       "      <td>2.551521</td>\n",
       "      <td>NaN</td>\n",
       "      <td>NaN</td>\n",
       "      <td>...</td>\n",
       "      <td>NaN</td>\n",
       "      <td>NaN</td>\n",
       "      <td>NaN</td>\n",
       "      <td>NaN</td>\n",
       "      <td>NaN</td>\n",
       "      <td>NaN</td>\n",
       "      <td>NaN</td>\n",
       "      <td>NaN</td>\n",
       "      <td>NaN</td>\n",
       "      <td>NaN</td>\n",
       "    </tr>\n",
       "    <tr>\n",
       "      <th>Gears</th>\n",
       "      <td>0.00285764</td>\n",
       "      <td>0.0880889</td>\n",
       "      <td>1161.6</td>\n",
       "      <td>NaN</td>\n",
       "      <td>NaN</td>\n",
       "      <td>NaN</td>\n",
       "      <td>NaN</td>\n",
       "      <td>NaN</td>\n",
       "      <td>NaN</td>\n",
       "      <td>NaN</td>\n",
       "      <td>...</td>\n",
       "      <td>NaN</td>\n",
       "      <td>NaN</td>\n",
       "      <td>NaN</td>\n",
       "      <td>NaN</td>\n",
       "      <td>NaN</td>\n",
       "      <td>97.154073</td>\n",
       "      <td>NaN</td>\n",
       "      <td>NaN</td>\n",
       "      <td>NaN</td>\n",
       "      <td>2.845927</td>\n",
       "    </tr>\n",
       "    <tr>\n",
       "      <th>Parking_Assistant</th>\n",
       "      <td>0.00200623</td>\n",
       "      <td>0.153071</td>\n",
       "      <td>2987.1</td>\n",
       "      <td>NaN</td>\n",
       "      <td>NaN</td>\n",
       "      <td>NaN</td>\n",
       "      <td>0.294406</td>\n",
       "      <td>99.705594</td>\n",
       "      <td>NaN</td>\n",
       "      <td>NaN</td>\n",
       "      <td>...</td>\n",
       "      <td>NaN</td>\n",
       "      <td>NaN</td>\n",
       "      <td>NaN</td>\n",
       "      <td>NaN</td>\n",
       "      <td>NaN</td>\n",
       "      <td>NaN</td>\n",
       "      <td>NaN</td>\n",
       "      <td>NaN</td>\n",
       "      <td>NaN</td>\n",
       "      <td>NaN</td>\n",
       "    </tr>\n",
       "    <tr>\n",
       "      <th>BOVAG_Guarantee</th>\n",
       "      <td>0.00126138</td>\n",
       "      <td>0.257341</td>\n",
       "      <td>405.563</td>\n",
       "      <td>NaN</td>\n",
       "      <td>NaN</td>\n",
       "      <td>NaN</td>\n",
       "      <td>88.714426</td>\n",
       "      <td>11.285574</td>\n",
       "      <td>NaN</td>\n",
       "      <td>NaN</td>\n",
       "      <td>...</td>\n",
       "      <td>NaN</td>\n",
       "      <td>NaN</td>\n",
       "      <td>NaN</td>\n",
       "      <td>NaN</td>\n",
       "      <td>NaN</td>\n",
       "      <td>NaN</td>\n",
       "      <td>NaN</td>\n",
       "      <td>NaN</td>\n",
       "      <td>NaN</td>\n",
       "      <td>NaN</td>\n",
       "    </tr>\n",
       "    <tr>\n",
       "      <th>Radio_cassette</th>\n",
       "      <td>0.000601555</td>\n",
       "      <td>0.434162</td>\n",
       "      <td>-253.668</td>\n",
       "      <td>NaN</td>\n",
       "      <td>NaN</td>\n",
       "      <td>NaN</td>\n",
       "      <td>14.229637</td>\n",
       "      <td>85.770363</td>\n",
       "      <td>NaN</td>\n",
       "      <td>NaN</td>\n",
       "      <td>...</td>\n",
       "      <td>NaN</td>\n",
       "      <td>NaN</td>\n",
       "      <td>NaN</td>\n",
       "      <td>NaN</td>\n",
       "      <td>NaN</td>\n",
       "      <td>NaN</td>\n",
       "      <td>NaN</td>\n",
       "      <td>NaN</td>\n",
       "      <td>NaN</td>\n",
       "      <td>NaN</td>\n",
       "    </tr>\n",
       "    <tr>\n",
       "      <th>Radio</th>\n",
       "      <td>0.000564023</td>\n",
       "      <td>0.448875</td>\n",
       "      <td>-245.627</td>\n",
       "      <td>NaN</td>\n",
       "      <td>NaN</td>\n",
       "      <td>NaN</td>\n",
       "      <td>14.229637</td>\n",
       "      <td>85.770363</td>\n",
       "      <td>NaN</td>\n",
       "      <td>NaN</td>\n",
       "      <td>...</td>\n",
       "      <td>NaN</td>\n",
       "      <td>NaN</td>\n",
       "      <td>NaN</td>\n",
       "      <td>NaN</td>\n",
       "      <td>NaN</td>\n",
       "      <td>NaN</td>\n",
       "      <td>NaN</td>\n",
       "      <td>NaN</td>\n",
       "      <td>NaN</td>\n",
       "      <td>NaN</td>\n",
       "    </tr>\n",
       "    <tr>\n",
       "      <th>Fuel_Type</th>\n",
       "      <td>0.000507803</td>\n",
       "      <td>0.772572</td>\n",
       "      <td>776.536</td>\n",
       "      <td>88.714426</td>\n",
       "      <td>10.402355</td>\n",
       "      <td>0.883219</td>\n",
       "      <td>NaN</td>\n",
       "      <td>NaN</td>\n",
       "      <td>NaN</td>\n",
       "      <td>NaN</td>\n",
       "      <td>...</td>\n",
       "      <td>NaN</td>\n",
       "      <td>NaN</td>\n",
       "      <td>NaN</td>\n",
       "      <td>NaN</td>\n",
       "      <td>NaN</td>\n",
       "      <td>NaN</td>\n",
       "      <td>NaN</td>\n",
       "      <td>NaN</td>\n",
       "      <td>NaN</td>\n",
       "      <td>NaN</td>\n",
       "    </tr>\n",
       "    <tr>\n",
       "      <th>Diesel</th>\n",
       "      <td>0.000278817</td>\n",
       "      <td>0.594444</td>\n",
       "      <td>197.624</td>\n",
       "      <td>NaN</td>\n",
       "      <td>NaN</td>\n",
       "      <td>NaN</td>\n",
       "      <td>10.402355</td>\n",
       "      <td>89.597645</td>\n",
       "      <td>NaN</td>\n",
       "      <td>NaN</td>\n",
       "      <td>...</td>\n",
       "      <td>NaN</td>\n",
       "      <td>NaN</td>\n",
       "      <td>NaN</td>\n",
       "      <td>NaN</td>\n",
       "      <td>NaN</td>\n",
       "      <td>NaN</td>\n",
       "      <td>NaN</td>\n",
       "      <td>NaN</td>\n",
       "      <td>NaN</td>\n",
       "      <td>NaN</td>\n",
       "    </tr>\n",
       "    <tr>\n",
       "      <th>Petrol</th>\n",
       "      <td>0.000131782</td>\n",
       "      <td>0.714355</td>\n",
       "      <td>-131.088</td>\n",
       "      <td>NaN</td>\n",
       "      <td>NaN</td>\n",
       "      <td>NaN</td>\n",
       "      <td>88.714426</td>\n",
       "      <td>11.285574</td>\n",
       "      <td>NaN</td>\n",
       "      <td>NaN</td>\n",
       "      <td>...</td>\n",
       "      <td>NaN</td>\n",
       "      <td>NaN</td>\n",
       "      <td>NaN</td>\n",
       "      <td>NaN</td>\n",
       "      <td>NaN</td>\n",
       "      <td>NaN</td>\n",
       "      <td>NaN</td>\n",
       "      <td>NaN</td>\n",
       "      <td>NaN</td>\n",
       "      <td>NaN</td>\n",
       "    </tr>\n",
       "  </tbody>\n",
       "</table>\n",
       "<p>34 rows × 23 columns</p>\n",
       "</div>"
      ],
      "text/plain": [
       "                            R2       P-value     Beta     Petrol     Diesel  \\\n",
       "Model                 0.916366  3.84556e-261      550        NaN        NaN   \n",
       "After_2002            0.664398  2.33686e-243 -8714.81        NaN        NaN   \n",
       "Boardcomputer         0.365576   1.3363e-102   4846.7        NaN        NaN   \n",
       "Automatic_airco       0.354131   1.20611e-98  9063.62        NaN        NaN   \n",
       "vvt                   0.350618   1.91189e-97  4557.91        NaN        NaN   \n",
       "CD_Player             0.243082   1.58629e-63  4254.76        NaN        NaN   \n",
       "Airco                 0.197411   1.52604e-50   3210.9        NaN        NaN   \n",
       "Powered_Windows       0.131775   4.26527e-33  2647.29        NaN        NaN   \n",
       "Central_Lock           0.13047   9.19823e-33   2649.6        NaN        NaN   \n",
       "ABS                  0.0926474     2.753e-23  2823.78        NaN        NaN   \n",
       "Airbag_2              0.059779    2.4596e-15  1961.95        NaN        NaN   \n",
       "Color                0.0547953    4.9279e-09   2416.1        NaN        NaN   \n",
       "Mistlamps            0.0518561   1.87872e-13   1873.4        NaN        NaN   \n",
       "D5                     0.03692   6.25704e-10  1390.01        NaN        NaN   \n",
       "Doors                 0.032688   6.16284e-09  684.907        NaN        NaN   \n",
       "Sport_Model          0.0276034   9.59794e-08  1295.62        NaN        NaN   \n",
       "Mfr_Guarantee        0.0272335   1.17198e-07  1215.48        NaN        NaN   \n",
       "Tow_Bar               0.024602   4.85457e-07 -1264.01        NaN        NaN   \n",
       "Met_Color            0.0233611   9.49297e-07  1173.83        NaN        NaN   \n",
       "D3                   0.0229144   1.20859e-06 -1104.52        NaN        NaN   \n",
       "Metallic_Rim         0.0187665   1.14224e-05  1246.24        NaN        NaN   \n",
       "Airbag_1            0.00913848     0.0022519  2011.15        NaN        NaN   \n",
       "Backseat_Divider    0.00657476    0.00961258   697.62        NaN        NaN   \n",
       "D4                  0.00494623      0.024764 -882.384        NaN        NaN   \n",
       "Automatic           0.00463254     0.0298152  1061.45        NaN        NaN   \n",
       "Power_Steering      0.00421834     0.0381794  1488.25        NaN        NaN   \n",
       "Gears               0.00285764     0.0880889   1161.6        NaN        NaN   \n",
       "Parking_Assistant   0.00200623      0.153071   2987.1        NaN        NaN   \n",
       "BOVAG_Guarantee     0.00126138      0.257341  405.563        NaN        NaN   \n",
       "Radio_cassette     0.000601555      0.434162 -253.668        NaN        NaN   \n",
       "Radio              0.000564023      0.448875 -245.627        NaN        NaN   \n",
       "Fuel_Type          0.000507803      0.772572  776.536  88.714426  10.402355   \n",
       "Diesel             0.000278817      0.594444  197.624        NaN        NaN   \n",
       "Petrol             0.000131782      0.714355 -131.088        NaN        NaN   \n",
       "\n",
       "                        CNG          1          0       Grey        Red  \\\n",
       "Model                   NaN        NaN        NaN        NaN        NaN   \n",
       "After_2002              NaN  86.849853  13.150147        NaN        NaN   \n",
       "Boardcomputer           NaN  28.361138  71.638862        NaN        NaN   \n",
       "Automatic_airco         NaN   5.986261  94.013739        NaN        NaN   \n",
       "vvt                     NaN  32.777233  67.222767        NaN        NaN   \n",
       "CD_Player               NaN  22.669284  77.330716        NaN        NaN   \n",
       "Airco                   NaN  50.441609  49.558391        NaN        NaN   \n",
       "Powered_Windows         NaN  56.722277  43.277723        NaN        NaN   \n",
       "Central_Lock            NaN  58.586850  41.413150        NaN        NaN   \n",
       "ABS                     NaN  81.354269  18.645731        NaN        NaN   \n",
       "Airbag_2                NaN  71.736997  28.263003        NaN        NaN   \n",
       "Color                   NaN        NaN        NaN  20.314033  20.314033   \n",
       "Mistlamps               NaN  26.104024  73.895976        NaN        NaN   \n",
       "D5                      NaN  47.693817  52.306183        NaN        NaN   \n",
       "Doors                   NaN        NaN        NaN        NaN        NaN   \n",
       "Sport_Model             NaN  31.207066  68.792934        NaN        NaN   \n",
       "Mfr_Guarantee           NaN  40.333660  59.666340        NaN        NaN   \n",
       "Tow_Bar                 NaN  27.870461  72.129539        NaN        NaN   \n",
       "Met_Color               NaN  66.928361  33.071639        NaN        NaN   \n",
       "D3                      NaN  43.081452  56.918548        NaN        NaN   \n",
       "Metallic_Rim            NaN  19.627085  80.372915        NaN        NaN   \n",
       "Airbag_1                NaN  96.957802   3.042198        NaN        NaN   \n",
       "Backseat_Divider        NaN  77.134446  22.865554        NaN        NaN   \n",
       "D4                      NaN   9.126595  90.873405        NaN        NaN   \n",
       "Automatic               NaN   5.691855  94.308145        NaN        NaN   \n",
       "Power_Steering          NaN  97.448479   2.551521        NaN        NaN   \n",
       "Gears                   NaN        NaN        NaN        NaN        NaN   \n",
       "Parking_Assistant       NaN   0.294406  99.705594        NaN        NaN   \n",
       "BOVAG_Guarantee         NaN  88.714426  11.285574        NaN        NaN   \n",
       "Radio_cassette          NaN  14.229637  85.770363        NaN        NaN   \n",
       "Radio                   NaN  14.229637  85.770363        NaN        NaN   \n",
       "Fuel_Type          0.883219        NaN        NaN        NaN        NaN   \n",
       "Diesel                  NaN  10.402355  89.597645        NaN        NaN   \n",
       "Petrol                  NaN  88.714426  11.285574        NaN        NaN   \n",
       "\n",
       "                     ...       Silver     White     Beige    Yellow    Violet  \\\n",
       "Model                ...          NaN       NaN       NaN       NaN       NaN   \n",
       "After_2002           ...          NaN       NaN       NaN       NaN       NaN   \n",
       "Boardcomputer        ...          NaN       NaN       NaN       NaN       NaN   \n",
       "Automatic_airco      ...          NaN       NaN       NaN       NaN       NaN   \n",
       "vvt                  ...          NaN       NaN       NaN       NaN       NaN   \n",
       "CD_Player            ...          NaN       NaN       NaN       NaN       NaN   \n",
       "Airco                ...          NaN       NaN       NaN       NaN       NaN   \n",
       "Powered_Windows      ...          NaN       NaN       NaN       NaN       NaN   \n",
       "Central_Lock         ...          NaN       NaN       NaN       NaN       NaN   \n",
       "ABS                  ...          NaN       NaN       NaN       NaN       NaN   \n",
       "Airbag_2             ...          NaN       NaN       NaN       NaN       NaN   \n",
       "Color                ...     8.832188  2.060844  0.294406  0.196271  0.196271   \n",
       "Mistlamps            ...          NaN       NaN       NaN       NaN       NaN   \n",
       "D5                   ...          NaN       NaN       NaN       NaN       NaN   \n",
       "Doors                ...          NaN       NaN       NaN       NaN       NaN   \n",
       "Sport_Model          ...          NaN       NaN       NaN       NaN       NaN   \n",
       "Mfr_Guarantee        ...          NaN       NaN       NaN       NaN       NaN   \n",
       "Tow_Bar              ...          NaN       NaN       NaN       NaN       NaN   \n",
       "Met_Color            ...          NaN       NaN       NaN       NaN       NaN   \n",
       "D3                   ...          NaN       NaN       NaN       NaN       NaN   \n",
       "Metallic_Rim         ...          NaN       NaN       NaN       NaN       NaN   \n",
       "Airbag_1             ...          NaN       NaN       NaN       NaN       NaN   \n",
       "Backseat_Divider     ...          NaN       NaN       NaN       NaN       NaN   \n",
       "D4                   ...          NaN       NaN       NaN       NaN       NaN   \n",
       "Automatic            ...          NaN       NaN       NaN       NaN       NaN   \n",
       "Power_Steering       ...          NaN       NaN       NaN       NaN       NaN   \n",
       "Gears                ...          NaN       NaN       NaN       NaN       NaN   \n",
       "Parking_Assistant    ...          NaN       NaN       NaN       NaN       NaN   \n",
       "BOVAG_Guarantee      ...          NaN       NaN       NaN       NaN       NaN   \n",
       "Radio_cassette       ...          NaN       NaN       NaN       NaN       NaN   \n",
       "Radio                ...          NaN       NaN       NaN       NaN       NaN   \n",
       "Fuel_Type            ...          NaN       NaN       NaN       NaN       NaN   \n",
       "Diesel               ...          NaN       NaN       NaN       NaN       NaN   \n",
       "Petrol               ...          NaN       NaN       NaN       NaN       NaN   \n",
       "\n",
       "                           5          3         4         2         6  \n",
       "Model                    NaN        NaN       NaN       NaN       NaN  \n",
       "After_2002               NaN        NaN       NaN       NaN       NaN  \n",
       "Boardcomputer            NaN        NaN       NaN       NaN       NaN  \n",
       "Automatic_airco          NaN        NaN       NaN       NaN       NaN  \n",
       "vvt                      NaN        NaN       NaN       NaN       NaN  \n",
       "CD_Player                NaN        NaN       NaN       NaN       NaN  \n",
       "Airco                    NaN        NaN       NaN       NaN       NaN  \n",
       "Powered_Windows          NaN        NaN       NaN       NaN       NaN  \n",
       "Central_Lock             NaN        NaN       NaN       NaN       NaN  \n",
       "ABS                      NaN        NaN       NaN       NaN       NaN  \n",
       "Airbag_2                 NaN        NaN       NaN       NaN       NaN  \n",
       "Color                    NaN        NaN       NaN       NaN       NaN  \n",
       "Mistlamps                NaN        NaN       NaN       NaN       NaN  \n",
       "D5                       NaN        NaN       NaN       NaN       NaN  \n",
       "Doors              47.693817  43.081452  9.126595  0.098135       NaN  \n",
       "Sport_Model              NaN        NaN       NaN       NaN       NaN  \n",
       "Mfr_Guarantee            NaN        NaN       NaN       NaN       NaN  \n",
       "Tow_Bar                  NaN        NaN       NaN       NaN       NaN  \n",
       "Met_Color                NaN        NaN       NaN       NaN       NaN  \n",
       "D3                       NaN        NaN       NaN       NaN       NaN  \n",
       "Metallic_Rim             NaN        NaN       NaN       NaN       NaN  \n",
       "Airbag_1                 NaN        NaN       NaN       NaN       NaN  \n",
       "Backseat_Divider         NaN        NaN       NaN       NaN       NaN  \n",
       "D4                       NaN        NaN       NaN       NaN       NaN  \n",
       "Automatic                NaN        NaN       NaN       NaN       NaN  \n",
       "Power_Steering           NaN        NaN       NaN       NaN       NaN  \n",
       "Gears              97.154073        NaN       NaN       NaN  2.845927  \n",
       "Parking_Assistant        NaN        NaN       NaN       NaN       NaN  \n",
       "BOVAG_Guarantee          NaN        NaN       NaN       NaN       NaN  \n",
       "Radio_cassette           NaN        NaN       NaN       NaN       NaN  \n",
       "Radio                    NaN        NaN       NaN       NaN       NaN  \n",
       "Fuel_Type                NaN        NaN       NaN       NaN       NaN  \n",
       "Diesel                   NaN        NaN       NaN       NaN       NaN  \n",
       "Petrol                   NaN        NaN       NaN       NaN       NaN  \n",
       "\n",
       "[34 rows x 23 columns]"
      ]
     },
     "execution_count": 40,
     "metadata": {},
     "output_type": "execute_result"
    }
   ],
   "source": [
    "for i in cols_cat[1:]: \n",
    "    temp_dict = dict(post_data[i].value_counts())\n",
    "    total = sum(temp_dict.values())\n",
    "    for key in temp_dict.keys():\n",
    "        cat_variable_stats.loc[i, key] = temp_dict[key] / float(total) * 100\n",
    "\n",
    "for i in cols_cat:\n",
    "    model = smf.ols(\"Price ~ {}\".format(i), post_data).fit()\n",
    "    cat_variable_stats.loc[i, 'R2'] = model.rsquared\n",
    "    cat_variable_stats.loc[i, 'P-value'] = model.f_pvalue\n",
    "    cat_variable_stats.loc[i, 'Beta'] = model.params[1]\n",
    "\n",
    "\n",
    "cat_variable_stats.sort_values('R2', ascending=False)"
   ]
  },
  {
   "cell_type": "code",
   "execution_count": null,
   "metadata": {
    "collapsed": true
   },
   "outputs": [],
   "source": []
  },
  {
   "cell_type": "markdown",
   "metadata": {},
   "source": [
    "# Run Multiple-Linear Regression Model"
   ]
  },
  {
   "cell_type": "code",
   "execution_count": 41,
   "metadata": {
    "collapsed": true
   },
   "outputs": [],
   "source": [
    "import sklearn\n",
    "from sklearn.model_selection import cross_val_score\n",
    "from sklearn.linear_model import LinearRegression\n",
    "from sklearn.model_selection import KFold"
   ]
  },
  {
   "cell_type": "markdown",
   "metadata": {},
   "source": [
    "### Model Description\n",
    "* I referenced the R**2 and p-value of each variable from simple linear regression result \n",
    "* Then I used stepwise approach to decide which variables I am going to include in the model\n",
    "* I used both stats.ols module and sklearn moduel \n",
    "* Finally, I chose the model that provided the highest R-squred value while meeting the following conditions:\n",
    "\n",
    "    ** The p-value of each variable should be under 0.05\n",
    "    \n",
    "    ** The result of cross-valdiation should not be dynamic when I run it multiple times\n",
    "    \n",
    "    ** Keep the number of variables lower than 10\n"
   ]
  },
  {
   "cell_type": "code",
   "execution_count": 42,
   "metadata": {
    "collapsed": true
   },
   "outputs": [],
   "source": [
    "train_component = ['Age_08_04', 'KM', 'Premium_option', 'Weight',\n",
    "                              'Boardcomputer','Automatic_airco', 'vvt', 'After_2002']\n",
    "train_variable= post_data[train_component]\n",
    "\n"
   ]
  },
  {
   "cell_type": "code",
   "execution_count": 44,
   "metadata": {},
   "outputs": [
    {
     "name": "stdout",
     "output_type": "stream",
     "text": [
      "[ 0.86490705  0.86655153  0.91829387  0.91082969  0.79876275  0.8877238\n",
      "  0.90221578  0.8774049   0.90769211  0.89788442]\n",
      "0.883226589474\n"
     ]
    }
   ],
   "source": [
    "model = LinearRegression()\n",
    "score = cross_val_score(model, train_variable, y_data, cv = KFold(n_splits=10, shuffle=True))\n",
    "print (score)\n",
    "print (score.mean())"
   ]
  },
  {
   "cell_type": "code",
   "execution_count": 45,
   "metadata": {},
   "outputs": [
    {
     "name": "stdout",
     "output_type": "stream",
     "text": [
      "                            OLS Regression Results                            \n",
      "==============================================================================\n",
      "Dep. Variable:                  Price   R-squared:                       0.894\n",
      "Model:                            OLS   Adj. R-squared:                  0.893\n",
      "Method:                 Least Squares   F-statistic:                     1062.\n",
      "Date:                Sat, 12 Aug 2017   Prob (F-statistic):               0.00\n",
      "Time:                        23:02:52   Log-Likelihood:                -8651.5\n",
      "No. Observations:                1019   AIC:                         1.732e+04\n",
      "Df Residuals:                    1010   BIC:                         1.737e+04\n",
      "Df Model:                           8                                         \n",
      "Covariance Type:            nonrobust                                         \n",
      "===================================================================================\n",
      "                      coef    std err          t      P>|t|      [0.025      0.975]\n",
      "-----------------------------------------------------------------------------------\n",
      "Intercept        4599.5398   1150.140      3.999      0.000    2342.602    6856.478\n",
      "Age_08_04         -83.8758      4.503    -18.629      0.000     -92.711     -75.040\n",
      "KM                 -0.0194      0.001    -15.803      0.000      -0.022      -0.017\n",
      "Premium_option    191.2149     24.067      7.945      0.000     143.988     238.442\n",
      "Weight             12.3800      0.962     12.867      0.000      10.492      14.268\n",
      "Boardcomputer    -475.1528    139.011     -3.418      0.001    -747.936    -202.370\n",
      "Automatic_airco  1939.8100    196.159      9.889      0.000    1554.883    2324.737\n",
      "vvt               464.1498    140.984      3.292      0.001     187.494     740.806\n",
      "After_2002      -2099.1203    190.611    -11.013      0.000   -2473.159   -1725.082\n",
      "==============================================================================\n",
      "Omnibus:                       85.232   Durbin-Watson:                   1.826\n",
      "Prob(Omnibus):                  0.000   Jarque-Bera (JB):              424.711\n",
      "Skew:                           0.168   Prob(JB):                     5.96e-93\n",
      "Kurtosis:                       6.145   Cond. No.                     2.43e+06\n",
      "==============================================================================\n",
      "\n",
      "Warnings:\n",
      "[1] Standard Errors assume that the covariance matrix of the errors is correctly specified.\n",
      "[2] The condition number is large, 2.43e+06. This might indicate that there are\n",
      "strong multicollinearity or other numerical problems.\n"
     ]
    }
   ],
   "source": [
    "model_ols = smf.ols(\"Price ~ Age_08_04 + KM + Premium_option + Weight + Boardcomputer + Automatic_airco + vvt + After_2002\", post_data).fit()\n",
    "print (model_ols.summary())"
   ]
  },
  {
   "cell_type": "markdown",
   "metadata": {},
   "source": [
    "<br>\n",
    "# Apply the model to the Test Set "
   ]
  },
  {
   "cell_type": "code",
   "execution_count": 48,
   "metadata": {
    "collapsed": true
   },
   "outputs": [],
   "source": [
    "test_data = pd.read_csv('test.csv', encoding='ISO-8859-1') "
   ]
  },
  {
   "cell_type": "code",
   "execution_count": 49,
   "metadata": {
    "collapsed": true
   },
   "outputs": [],
   "source": [
    "test_data['After_2002'] = test_data.apply(lambda x: x['Mfg_Year'] < 2002, axis = 1)"
   ]
  },
  {
   "cell_type": "code",
   "execution_count": 50,
   "metadata": {},
   "outputs": [
    {
     "data": {
      "text/plain": [
       "1    365\n",
       "0     52\n",
       "Name: After_2002, dtype: int64"
      ]
     },
     "execution_count": 50,
     "metadata": {},
     "output_type": "execute_result"
    }
   ],
   "source": [
    "dummy = pd.get_dummies(test_data['After_2002'], drop_first=True)\n",
    "dummy.columns = ['After_2002']\n",
    "test_data['After_2002'] = dummy['After_2002']\n",
    "test_data['After_2002'].value_counts()"
   ]
  },
  {
   "cell_type": "code",
   "execution_count": 51,
   "metadata": {
    "collapsed": true
   },
   "outputs": [],
   "source": [
    "import re\n",
    "pattern = re.compile(r'vvt', flags=re.IGNORECASE)\n",
    "vvt= []\n",
    "for i in test_data['Model']:\n",
    "    result = pattern.search(i)\n",
    "    if result:\n",
    "        vvt.append(1)\n",
    "    else:\n",
    "        vvt.append(0)\n",
    "\n",
    "test_data['vvt'] = pd.Series(vvt)"
   ]
  },
  {
   "cell_type": "code",
   "execution_count": 52,
   "metadata": {
    "collapsed": true
   },
   "outputs": [],
   "source": [
    "test_data['Premium_option'] = (test_data['CD_Player']*2)+(test_data['Airco']*1.2)+test_data['Powered_Windows']+test_data['Central_Lock']+test_data['ABS']"
   ]
  },
  {
   "cell_type": "code",
   "execution_count": 53,
   "metadata": {
    "collapsed": true
   },
   "outputs": [],
   "source": [
    "test_data['Predicted'] =''\n",
    "y_hat_data = test_data['Predicted']\n",
    "test_cols_nu = ['Age_08_04', 'Mfg_Year', 'KM', 'HP', 'CC', 'Quarterly_Tax', 'Weight','Guarantee_Period', 'Premium_option']\n",
    "test_cols_cat = ['Model', 'Fuel_Type', 'Met_Color', 'Color', 'Automatic', 'Doors', 'Gears', 'Mfr_Guarantee', 'BOVAG_Guarantee',\n",
    "            'ABS', 'Airbag_1', 'Airbag_2', 'Airco', 'Automatic_airco', 'Boardcomputer', 'CD_Player', 'Central_Lock',\n",
    "            'Powered_Windows', 'Power_Steering', 'Radio', 'Mistlamps', 'Sport_Model', 'Backseat_Divider', 'Metallic_Rim',\n",
    "            'Radio_cassette', 'Parking_Assistant', 'Tow_Bar','After_2002', 'vvt']"
   ]
  },
  {
   "cell_type": "code",
   "execution_count": 54,
   "metadata": {},
   "outputs": [
    {
     "data": {
      "text/html": [
       "<div>\n",
       "<style>\n",
       "    .dataframe thead tr:only-child th {\n",
       "        text-align: right;\n",
       "    }\n",
       "\n",
       "    .dataframe thead th {\n",
       "        text-align: left;\n",
       "    }\n",
       "\n",
       "    .dataframe tbody tr th {\n",
       "        vertical-align: top;\n",
       "    }\n",
       "</style>\n",
       "<table border=\"1\" class=\"dataframe\">\n",
       "  <thead>\n",
       "    <tr style=\"text-align: right;\">\n",
       "      <th></th>\n",
       "      <th>Id</th>\n",
       "      <th>Model</th>\n",
       "      <th>Age_08_04</th>\n",
       "      <th>Mfg_Month</th>\n",
       "      <th>Mfg_Year</th>\n",
       "      <th>KM</th>\n",
       "      <th>Fuel_Type</th>\n",
       "      <th>HP</th>\n",
       "      <th>Met_Color</th>\n",
       "      <th>Color</th>\n",
       "      <th>...</th>\n",
       "      <th>Sport_Model</th>\n",
       "      <th>Backseat_Divider</th>\n",
       "      <th>Metallic_Rim</th>\n",
       "      <th>Radio_cassette</th>\n",
       "      <th>Parking_Assistant</th>\n",
       "      <th>Tow_Bar</th>\n",
       "      <th>After_2002</th>\n",
       "      <th>vvt</th>\n",
       "      <th>Premium_option</th>\n",
       "      <th>Predicted</th>\n",
       "    </tr>\n",
       "  </thead>\n",
       "  <tbody>\n",
       "    <tr>\n",
       "      <th>0</th>\n",
       "      <td>3</td>\n",
       "      <td>åÊTOYOTA Corolla 2.0 D4D HATCHB TERRA 2/3-Doors</td>\n",
       "      <td>24</td>\n",
       "      <td>9</td>\n",
       "      <td>2002</td>\n",
       "      <td>41711</td>\n",
       "      <td>Diesel</td>\n",
       "      <td>90</td>\n",
       "      <td>1</td>\n",
       "      <td>Blue</td>\n",
       "      <td>...</td>\n",
       "      <td>0</td>\n",
       "      <td>1</td>\n",
       "      <td>0</td>\n",
       "      <td>0</td>\n",
       "      <td>0</td>\n",
       "      <td>0</td>\n",
       "      <td>0</td>\n",
       "      <td>0</td>\n",
       "      <td>1.0</td>\n",
       "      <td></td>\n",
       "    </tr>\n",
       "    <tr>\n",
       "      <th>1</th>\n",
       "      <td>4</td>\n",
       "      <td>TOYOTA Corolla 2.0 D4D HATCHB TERRA 2/3-Doors</td>\n",
       "      <td>26</td>\n",
       "      <td>7</td>\n",
       "      <td>2002</td>\n",
       "      <td>48000</td>\n",
       "      <td>Diesel</td>\n",
       "      <td>90</td>\n",
       "      <td>0</td>\n",
       "      <td>Black</td>\n",
       "      <td>...</td>\n",
       "      <td>0</td>\n",
       "      <td>1</td>\n",
       "      <td>0</td>\n",
       "      <td>0</td>\n",
       "      <td>0</td>\n",
       "      <td>0</td>\n",
       "      <td>0</td>\n",
       "      <td>0</td>\n",
       "      <td>1.0</td>\n",
       "      <td></td>\n",
       "    </tr>\n",
       "  </tbody>\n",
       "</table>\n",
       "<p>2 rows × 42 columns</p>\n",
       "</div>"
      ],
      "text/plain": [
       "   Id                                            Model  Age_08_04  Mfg_Month  \\\n",
       "0   3  åÊTOYOTA Corolla 2.0 D4D HATCHB TERRA 2/3-Doors         24          9   \n",
       "1   4    TOYOTA Corolla 2.0 D4D HATCHB TERRA 2/3-Doors         26          7   \n",
       "\n",
       "   Mfg_Year     KM Fuel_Type  HP  Met_Color  Color    ...      Sport_Model  \\\n",
       "0      2002  41711    Diesel  90          1   Blue    ...                0   \n",
       "1      2002  48000    Diesel  90          0  Black    ...                0   \n",
       "\n",
       "   Backseat_Divider  Metallic_Rim  Radio_cassette  Parking_Assistant  Tow_Bar  \\\n",
       "0                 1             0               0                  0        0   \n",
       "1                 1             0               0                  0        0   \n",
       "\n",
       "   After_2002  vvt  Premium_option  Predicted  \n",
       "0           0    0             1.0             \n",
       "1           0    0             1.0             \n",
       "\n",
       "[2 rows x 42 columns]"
      ]
     },
     "execution_count": 54,
     "metadata": {},
     "output_type": "execute_result"
    }
   ],
   "source": [
    "test_data[:2]"
   ]
  },
  {
   "cell_type": "code",
   "execution_count": 55,
   "metadata": {
    "collapsed": true
   },
   "outputs": [],
   "source": [
    "model.fit(post_data[train_component],\n",
    "          post_data[['Price']])\n",
    "test_data['Predicted'] = model.predict(test_data[train_component])"
   ]
  },
  {
   "cell_type": "code",
   "execution_count": 56,
   "metadata": {
    "collapsed": true
   },
   "outputs": [],
   "source": [
    "test_data.to_csv('test_submission.csv')"
   ]
  },
  {
   "cell_type": "markdown",
   "metadata": {},
   "source": [
    "<br>\n",
    "# Additional works for some fun..."
   ]
  },
  {
   "cell_type": "markdown",
   "metadata": {},
   "source": [
    "### After the project, I recieved the Actual y-value of the test set and ran our model"
   ]
  },
  {
   "cell_type": "code",
   "execution_count": 57,
   "metadata": {
    "collapsed": true
   },
   "outputs": [],
   "source": [
    "all_set = pd.read_excel('explanation-of-features.xls', sheetname='data')"
   ]
  },
  {
   "cell_type": "code",
   "execution_count": 59,
   "metadata": {},
   "outputs": [
    {
     "name": "stdout",
     "output_type": "stream",
     "text": [
      "21500\n"
     ]
    }
   ],
   "source": [
    "gap = pd.DataFrame()\n",
    "gap['Id'] = test_data['Id']\n",
    "gap['Predicted'] = test_data['Predicted']\n",
    "gettheprice = []\n",
    "for i in gap['Id']:\n",
    "    gettheprice.append(int(all_set['Price'][all_set['Id']==i]))\n",
    "print (gettheprice[5])"
   ]
  },
  {
   "cell_type": "code",
   "execution_count": 60,
   "metadata": {
    "collapsed": true
   },
   "outputs": [],
   "source": [
    "gap['realprice'] = gettheprice\n",
    "gap['sse'] = (gap.Predicted - gap.realprice)**2\n",
    "avg_realprice = gap['realprice'].mean()\n",
    "gap['ssr'] = (gap.Predicted - avg_realprice)**2"
   ]
  },
  {
   "cell_type": "code",
   "execution_count": 61,
   "metadata": {},
   "outputs": [
    {
     "name": "stdout",
     "output_type": "stream",
     "text": [
      "0.8785277456620981\n",
      "1521032.2204359935\n"
     ]
    }
   ],
   "source": [
    "model_rsqare = gap['ssr'].sum() / (gap['sse'].sum() + gap['ssr'].sum())\n",
    "print (model_rsqare)\n",
    "print (gap['sse'].mean())"
   ]
  },
  {
   "cell_type": "markdown",
   "metadata": {},
   "source": [
    "### The scoe was not too bad :)"
   ]
  },
  {
   "cell_type": "markdown",
   "metadata": {},
   "source": [
    "### But I wanted to test my hypothesis which I did not apply to this project due to the limited amount data\n",
    "#### The hypothesis was:\n",
    "    - Why should we have only one model for the prediction? (In common sense, one model can't fit to all)\n",
    "    - If the price range of two group is very different, isn't it more reasonable to have 'two different models' to predict the outcome?\n"
   ]
  },
  {
   "cell_type": "markdown",
   "metadata": {},
   "source": [
    "## So I made two models instead of one. \n",
    "#### Model-1 will predict the price of cars that were manufactured after 2002\n",
    "#### Model-2 will predict the price of cars that were manufactured before 2002"
   ]
  },
  {
   "cell_type": "code",
   "execution_count": 62,
   "metadata": {},
   "outputs": [
    {
     "data": {
      "text/plain": [
       "LinearRegression(copy_X=True, fit_intercept=True, n_jobs=1, normalize=False)"
      ]
     },
     "execution_count": 62,
     "metadata": {},
     "output_type": "execute_result"
    }
   ],
   "source": [
    "model_after2002 = LinearRegression()\n",
    "model_after2002.fit(post_data[['Age_08_04', 'KM', 'Boardcomputer','Automatic_airco', \n",
    "                      'Weight', 'vvt', 'Premium_option']][post_data['After_2002']==1],post_data['Price'][post_data['After_2002'] == 1])"
   ]
  },
  {
   "cell_type": "code",
   "execution_count": 63,
   "metadata": {},
   "outputs": [
    {
     "data": {
      "text/plain": [
       "LinearRegression(copy_X=True, fit_intercept=True, n_jobs=1, normalize=False)"
      ]
     },
     "execution_count": 63,
     "metadata": {},
     "output_type": "execute_result"
    }
   ],
   "source": [
    "model_before2002 = LinearRegression()\n",
    "model_before2002.fit(post_data[['Age_08_04', 'KM', 'Boardcomputer','Automatic_airco', \n",
    "                      'Weight', 'vvt', 'Premium_option', 'CC']][post_data['After_2002']==0],post_data['Price'][post_data['After_2002'] == 0])"
   ]
  },
  {
   "cell_type": "code",
   "execution_count": 64,
   "metadata": {
    "collapsed": true
   },
   "outputs": [],
   "source": [
    "test_data['Predicted'] = 0"
   ]
  },
  {
   "cell_type": "code",
   "execution_count": 65,
   "metadata": {},
   "outputs": [
    {
     "name": "stderr",
     "output_type": "stream",
     "text": [
      "/Users/aceit/anaconda/lib/python3.6/site-packages/ipykernel_launcher.py:2: SettingWithCopyWarning: \n",
      "A value is trying to be set on a copy of a slice from a DataFrame\n",
      "\n",
      "See the caveats in the documentation: http://pandas.pydata.org/pandas-docs/stable/indexing.html#indexing-view-versus-copy\n",
      "  \n"
     ]
    }
   ],
   "source": [
    "test_data['Predicted'][test_data['After_2002'] == 1] = model_after2002.predict(test_data[['Age_08_04', 'KM', 'Boardcomputer','Automatic_airco',\n",
    "                                               'Weight', 'vvt', 'Premium_option']][test_data['After_2002']==1])"
   ]
  },
  {
   "cell_type": "code",
   "execution_count": 66,
   "metadata": {},
   "outputs": [
    {
     "name": "stderr",
     "output_type": "stream",
     "text": [
      "/Users/aceit/anaconda/lib/python3.6/site-packages/ipykernel_launcher.py:2: SettingWithCopyWarning: \n",
      "A value is trying to be set on a copy of a slice from a DataFrame\n",
      "\n",
      "See the caveats in the documentation: http://pandas.pydata.org/pandas-docs/stable/indexing.html#indexing-view-versus-copy\n",
      "  \n"
     ]
    }
   ],
   "source": [
    "test_data['Predicted'][test_data['After_2002'] == 0] = model_before2002.predict(test_data[['Age_08_04', 'KM', 'Boardcomputer','Automatic_airco',\n",
    "                                               'Weight', 'vvt', 'Premium_option','CC']][test_data['After_2002']==0])"
   ]
  },
  {
   "cell_type": "code",
   "execution_count": 67,
   "metadata": {},
   "outputs": [
    {
     "name": "stdout",
     "output_type": "stream",
     "text": [
      "1    365\n",
      "0     52\n",
      "Name: After_2002, dtype: int64\n"
     ]
    }
   ],
   "source": [
    "print (test_data['After_2002'].value_counts())"
   ]
  },
  {
   "cell_type": "code",
   "execution_count": 68,
   "metadata": {},
   "outputs": [
    {
     "name": "stdout",
     "output_type": "stream",
     "text": [
      "0.9059823384755344\n",
      "1209570.3965524684\n"
     ]
    }
   ],
   "source": [
    "gap = pd.DataFrame()\n",
    "gap['Id'] = test_data['Id']\n",
    "gap['Predicted'] = test_data['Predicted']\n",
    "gettheprice = []\n",
    "for i in gap['Id']:\n",
    "    gettheprice.append(int(all_set['Price'][all_set['Id']==i]))\n",
    "    \n",
    "gap['realprice'] = gettheprice\n",
    "gap['sse'] = (gap.Predicted - gap.realprice)**2\n",
    "avg_realprice = gap['realprice'].mean()\n",
    "gap['ssr'] = (gap.Predicted - avg_realprice)**2\n",
    "\n",
    "model_rsqare = gap['ssr'].sum() / (gap['sse'].sum() + gap['ssr'].sum())\n",
    "print (model_rsqare)\n",
    "print (gap['sse'].mean())"
   ]
  },
  {
   "cell_type": "markdown",
   "metadata": {},
   "source": [
    "# The score has been improved by using two models.\n",
    "#### However, we do not have enough data points to verify \"Before 2002\", and this score could be just a result of luck.\n",
    "#### I would not go with two models until I have more data points to train model-2(Before 2002). "
   ]
  },
  {
   "cell_type": "markdown",
   "metadata": {
    "collapsed": true
   },
   "source": [
    "<br><br><br><br><br><br>\n",
    "           \n",
    "           "
   ]
  }
 ],
 "metadata": {
  "kernelspec": {
   "display_name": "Python 3",
   "language": "python",
   "name": "python3"
  },
  "language_info": {
   "codemirror_mode": {
    "name": "ipython",
    "version": 3
   },
   "file_extension": ".py",
   "mimetype": "text/x-python",
   "name": "python",
   "nbconvert_exporter": "python",
   "pygments_lexer": "ipython3",
   "version": "3.6.1"
  }
 },
 "nbformat": 4,
 "nbformat_minor": 2
}
